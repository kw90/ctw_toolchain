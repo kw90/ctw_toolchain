{
 "cells": [
  {
   "cell_type": "markdown",
   "metadata": {},
   "source": [
    "# Translate `dzn` to `smt2`"
   ]
  },
  {
   "cell_type": "markdown",
   "metadata": {},
   "source": [
    "### Check Versions of Tools"
   ]
  },
  {
   "cell_type": "code",
   "execution_count": 1,
   "metadata": {},
   "outputs": [
    {
     "data": {
      "text/plain": [
       "'MathSAT5 version 1.6.4 (d39a648d6bb7) (Feb 25 2020 14:02:07, gmp 6.1.2, gcc 9.2.1, 64-bit)\\n'"
      ]
     },
     "execution_count": 1,
     "metadata": {},
     "output_type": "execute_result"
    }
   ],
   "source": [
    "import subprocess\n",
    "\n",
    "output = subprocess.check_output(\"../optimathsat/bin/optimathsat -version\", shell=True, universal_newlines=True)\n",
    "output"
   ]
  },
  {
   "cell_type": "code",
   "execution_count": 3,
   "metadata": {},
   "outputs": [
    {
     "data": {
      "text/plain": [
       "'MiniZinc to FlatZinc converter, version 2.3.2\\nCopyright (C) 2014-2020 Monash University, NICTA, Data61\\n'"
      ]
     },
     "execution_count": 3,
     "metadata": {},
     "output_type": "execute_result"
    }
   ],
   "source": [
    "output = subprocess.check_output(\"../minizinc/build/minizinc --version\", shell=True, universal_newlines=True)\n",
    "output"
   ]
  },
  {
   "cell_type": "code",
   "execution_count": 3,
   "metadata": {},
   "outputs": [
    {
     "data": {
      "text/plain": [
       "'Z3 version 4.8.8 - 64 bit\\n'"
      ]
     },
     "execution_count": 3,
     "metadata": {},
     "output_type": "execute_result"
    }
   ],
   "source": [
    "output = subprocess.check_output(\"../z3/build/z3 --version\", shell=True, universal_newlines=True)\n",
    "output"
   ]
  },
  {
   "cell_type": "markdown",
   "metadata": {},
   "source": [
    "First generate the FlatZinc files using the MiniZinc tool. Make sure that a `smt2` folder is located inside `./minizinc/share/minizinc/`. Else, to enable OptiMathSAT's support for global constraints download the [smt2.tar.gz](http://optimathsat.disi.unitn.it/data/smt2.tar.gz) package and unpack it there using\n",
    "\n",
    "```zsh\n",
    "tar xf smt2.tar.gz $MINIZINC_PATH/share/minizinc/\n",
    "```\n",
    "\n",
    "If next output shows a list of `.mzn` files, then this dependency is satified."
   ]
  },
  {
   "cell_type": "code",
   "execution_count": 4,
   "metadata": {},
   "outputs": [
    {
     "name": "stdout",
     "output_type": "stream",
     "text": [
      "total 292\n",
      "drwxr-xr-x  2 kw kw 4096 Jan 15  2018 .\n",
      "drwxr-xr-x 11 kw kw 4096 Apr 15 12:52 ..\n",
      "-rw-r--r--  1 kw kw  328 Nov 13  2017 alldifferent_except_0.mzn\n",
      "-rw-r--r--  1 kw kw  382 Nov 13  2017 all_different_int.mzn\n",
      "-rw-r--r--  1 kw kw  396 Nov 13  2017 all_different_set.mzn\n",
      "-rw-r--r--  1 kw kw  270 Nov 13  2017 all_disjoint.mzn\n",
      "-rw-r--r--  1 kw kw  150 Nov 14  2017 all_equal_int.mzn\n",
      "-rw-r--r--  1 kw kw  164 Nov 13  2017 all_equal_set.mzn\n",
      "-rw-r--r--  1 kw kw  351 Nov 13  2017 among.mzn\n",
      "-rw-r--r--  1 kw kw  305 Nov  8  2017 arg_max_float.mzn\n",
      "-rw-r--r--  1 kw kw  291 Nov  8  2017 arg_max_int.mzn\n",
      "-rw-r--r--  1 kw kw  306 Nov  8  2017 arg_min_float.mzn\n",
      "-rw-r--r--  1 kw kw  291 Nov  8  2017 arg_min_int.mzn\n",
      "-rw-r--r--  1 kw kw  480 Nov 13  2017 at_least_int.mzn\n",
      "-rw-r--r--  1 kw kw  506 Nov 14  2017 at_least_set.mzn\n",
      "-rw-r--r--  1 kw kw  340 Nov 13  2017 at_most1.mzn\n",
      "-rw-r--r--  1 kw kw  474 Nov 13  2017 at_most_int.mzn\n",
      "-rw-r--r--  1 kw kw  502 Nov 13  2017 at_most_set.mzn\n",
      "-rw-r--r--  1 kw kw 1162 Nov  8  2017 bin_packing_capa.mzn\n",
      "-rw-r--r--  1 kw kw 1044 Nov  8  2017 bin_packing_load.mzn\n",
      "-rw-r--r--  1 kw kw  883 Nov 14  2017 bin_packing.mzn\n",
      "-rw-r--r--  1 kw kw  765 Nov 14  2017 comparison_rel_array.mzn\n",
      "-rw-r--r--  1 kw kw  350 Nov 13  2017 count_eq.mzn\n",
      "-rw-r--r--  1 kw kw  382 Nov 13  2017 count_geq.mzn\n",
      "-rw-r--r--  1 kw kw  375 Nov 13  2017 count_gt.mzn\n",
      "-rw-r--r--  1 kw kw  379 Nov 13  2017 count_leq.mzn\n",
      "-rw-r--r--  1 kw kw  371 Nov 13  2017 count_lt.mzn\n",
      "-rw-r--r--  1 kw kw  371 Nov 13  2017 count_neq.mzn\n",
      "-rw-r--r--  1 kw kw  398 Nov 13  2017 decreasing_bool.mzn\n",
      "-rw-r--r--  1 kw kw  404 Nov 13  2017 decreasing_float.mzn\n",
      "-rw-r--r--  1 kw kw  393 Nov 13  2017 decreasing_int.mzn\n",
      "-rw-r--r--  1 kw kw  408 Nov 14  2017 decreasing_set.mzn\n",
      "-rw-r--r--  1 kw kw 1589 Nov 13  2017 diffn_k.mzn\n",
      "-rw-r--r--  1 kw kw  853 Nov 14  2017 diffn.mzn\n",
      "-rw-r--r--  1 kw kw 1731 Nov 13  2017 diffn_nonstrict_k.mzn\n",
      "-rw-r--r--  1 kw kw  919 Nov 14  2017 diffn_nonstrict.mzn\n",
      "-rw-r--r--  1 kw kw  276 Nov 14  2017 disjoint.mzn\n",
      "-rw-r--r--  1 kw kw  836 Nov  8  2017 disjunctive.mzn\n",
      "-rw-r--r--  1 kw kw  748 Nov  8  2017 disjunctive_strict.mzn\n",
      "-rw-r--r--  1 kw kw  696 Nov 14  2017 distribute.mzn\n",
      "-rw-r--r--  1 kw kw  474 Nov 13  2017 exactly_int.mzn\n",
      "-rw-r--r--  1 kw kw  502 Nov 13  2017 exactly_set.mzn\n",
      "-rw-r--r--  1 kw kw  851 Nov 14  2017 global_cardinality_closed.mzn\n",
      "-rw-r--r--  1 kw kw  396 Nov  8  2017 global_cardinality_fn.mzn\n",
      "-rw-r--r--  1 kw kw  914 Nov 13  2017 global_cardinality_low_up_closed.mzn\n",
      "-rw-r--r--  1 kw kw  795 Nov 13  2017 global_cardinality_low_up.mzn\n",
      "-rw-r--r--  1 kw kw  717 Nov 14  2017 global_cardinality.mzn\n",
      "-rw-r--r--  1 kw kw  398 Nov 13  2017 increasing_bool.mzn\n",
      "-rw-r--r--  1 kw kw  403 Nov 13  2017 increasing_float.mzn\n",
      "-rw-r--r--  1 kw kw  394 Nov 13  2017 increasing_int.mzn\n",
      "-rw-r--r--  1 kw kw  408 Nov 13  2017 increasing_set.mzn\n",
      "-rw-r--r--  1 kw kw  728 Nov 14  2017 int_set_channel.mzn\n",
      "-rw-r--r--  1 kw kw  582 Nov  8  2017 inverse.mzn\n",
      "-rw-r--r--  1 kw kw  827 Nov  8  2017 inverse_set.mzn\n",
      "-rw-r--r--  1 kw kw  708 Nov 14  2017 link_set_to_booleans.mzn\n",
      "-rw-r--r--  1 kw kw  375 Nov 11  2017 maximum_float.mzn\n",
      "-rw-r--r--  1 kw kw  367 Nov 11  2017 maximum_int.mzn\n",
      "-rw-r--r--  1 kw kw  422 Nov 13  2017 member_bool.mzn\n",
      "-rw-r--r--  1 kw kw  431 Nov 13  2017 member_float.mzn\n",
      "-rw-r--r--  1 kw kw  414 Nov 13  2017 member_int.mzn\n",
      "-rw-r--r--  1 kw kw  442 Nov 13  2017 member_set.mzn\n",
      "-rw-r--r--  1 kw kw  372 Nov 11  2017 minimum_float.mzn\n",
      "-rw-r--r--  1 kw kw  367 Nov 11  2017 minimum_int.mzn\n",
      "-rw-r--r--  1 kw kw  283 Nov 13  2017 nvalue.mzn\n",
      "-rw-r--r--  1 kw kw  712 Nov 14  2017 range.mzn\n",
      "-rw-r--r--  1 kw kw 1751 Nov 13  2017 redefinitions-2.0.2.mzn\n",
      "-rw-r--r--  1 kw kw 1434 Nov 13  2017 redefinitions-2.0.mzn\n",
      "-rw-r--r--  1 kw kw  678 Nov 15  2017 redefinitions-2.1.mzn\n",
      "-rw-r--r--  1 kw kw  571 Nov 14  2017 roots.mzn\n",
      "-rw-r--r--  1 kw kw  764 Nov  8  2017 sum_pred.mzn\n",
      "-rw-r--r--  1 kw kw  445 Nov 15  2017 symmetric_all_different.mzn\n",
      "-rw-r--r--  1 kw kw  280 Nov 15  2017 value_precede_int.mzn\n",
      "-rw-r--r--  1 kw kw  294 Nov 15  2017 value_precede_set.mzn\n",
      "\n"
     ]
    }
   ],
   "source": [
    "output = subprocess.check_output(\"ls -la ../minizinc/share/minizinc/smt2/\", shell=True, universal_newlines=True)\n",
    "print(output)"
   ]
  },
  {
   "cell_type": "markdown",
   "metadata": {},
   "source": [
    "## Transform `dzn` to `fzn` Using Model `mzn`"
   ]
  },
  {
   "cell_type": "markdown",
   "metadata": {},
   "source": [
    "Then transform the desired `.dzn` file to `.fzn` using the `Mz.mzn` MiniZinc model."
   ]
  },
  {
   "cell_type": "code",
   "execution_count": 11,
   "metadata": {
    "scrolled": true
   },
   "outputs": [
    {
     "data": {
      "text/plain": [
       "15"
      ]
     },
     "execution_count": 11,
     "metadata": {},
     "output_type": "execute_result"
    }
   ],
   "source": [
    "import os\n",
    "\n",
    "dzn_files = []\n",
    "dzn_path = 'dzn-files/'\n",
    "\n",
    "for filename in os.listdir(dzn_path):\n",
    "    if filename.endswith(\".dzn\"):\n",
    "        dzn_files.append(filename)\n",
    "len(dzn_files)"
   ]
  },
  {
   "cell_type": "code",
   "execution_count": 12,
   "metadata": {
    "scrolled": false
   },
   "outputs": [
    {
     "name": "stdout",
     "output_type": "stream",
     "text": [
      "(1/15) Translating dzn-files/A011.dzn to fzn-files/z3/A011-dzn.fzn\n",
      "(2/15) Translating dzn-files/A013.dzn to fzn-files/z3/A013-dzn.fzn\n",
      "(3/15) Translating dzn-files/A008.dzn to fzn-files/z3/A008-dzn.fzn\n",
      "(4/15) Translating dzn-files/A012.dzn to fzn-files/z3/A012-dzn.fzn\n",
      "(5/15) Translating dzn-files/A009.dzn to fzn-files/z3/A009-dzn.fzn\n",
      "(6/15) Translating dzn-files/A002.dzn to fzn-files/z3/A002-dzn.fzn\n",
      "(7/15) Translating dzn-files/A001.dzn to fzn-files/z3/A001-dzn.fzn\n",
      "(8/15) Translating dzn-files/A006.dzn to fzn-files/z3/A006-dzn.fzn\n",
      "(9/15) Translating dzn-files/A014.dzn to fzn-files/z3/A014-dzn.fzn\n",
      "(10/15) Translating dzn-files/A003.dzn to fzn-files/z3/A003-dzn.fzn\n",
      "(11/15) Translating dzn-files/A007.dzn to fzn-files/z3/A007-dzn.fzn\n",
      "(12/15) Translating dzn-files/A015.dzn to fzn-files/z3/A015-dzn.fzn\n",
      "(13/15) Translating dzn-files/A004.dzn to fzn-files/z3/A004-dzn.fzn\n",
      "(14/15) Translating dzn-files/A010.dzn to fzn-files/z3/A010-dzn.fzn\n",
      "(15/15) Translating dzn-files/A005.dzn to fzn-files/z3/A005-dzn.fzn\n"
     ]
    }
   ],
   "source": [
    "fzn_path = 'fzn-files/z3/'\n",
    "minizinc_base_cmd = '../minizinc/build/minizinc \\\n",
    "    -Werror \\\n",
    "    --compile --solver org.minizinc.mzn-fzn \\\n",
    "    --search-dir /home/kw/minizinc/share/minizinc/smt2/ \\\n",
    "    mzn-model/Mz.mzn '\n",
    "translate_count = 0\n",
    "for dzn in dzn_files:\n",
    "    translate_count += 1\n",
    "    minizinc_transform_cmd = minizinc_base_cmd + dzn_path + dzn \\\n",
    "        + ' --output-to-file ' + fzn_path + dzn.replace('.', '-') + '.fzn'\n",
    "    print(f'''({translate_count}/{len(dzn_files)}) Translating {dzn_path + dzn} to {fzn_path + dzn.replace('.', '-')}.fzn''')\n",
    "    subprocess.check_output(minizinc_transform_cmd, shell=True, \n",
    "                                     universal_newlines=True)"
   ]
  },
  {
   "cell_type": "markdown",
   "metadata": {},
   "source": [
    "## Translate `fzn` to `smt2`"
   ]
  },
  {
   "cell_type": "markdown",
   "metadata": {},
   "source": [
    "The generated `.fzn` file can be used to generate a `.smt2` file using the `fzn2smt2.py` script from this [project](https://github.com/PatrickTrentin88/fzn2omt)."
   ]
  },
  {
   "cell_type": "code",
   "execution_count": 13,
   "metadata": {},
   "outputs": [
    {
     "data": {
      "text/plain": [
       "15"
      ]
     },
     "execution_count": 13,
     "metadata": {},
     "output_type": "execute_result"
    }
   ],
   "source": [
    "import os\n",
    "\n",
    "fzn_files = []\n",
    "fzn_path = 'fzn-files/z3/'\n",
    "\n",
    "for filename in os.listdir(fzn_path):\n",
    "    if filename.endswith(\".fzn\"):\n",
    "        fzn_files.append(filename)\n",
    "len(fzn_files)"
   ]
  },
  {
   "cell_type": "code",
   "execution_count": 17,
   "metadata": {
    "scrolled": true
   },
   "outputs": [
    {
     "name": "stdout",
     "output_type": "stream",
     "text": [
      "(1/15) Translating fzn-files/z3/A003-dzn.fzn to smt2-files/z3/A003-dzn-fzn.smt2\n",
      "(2/15) Translating fzn-files/z3/A005-dzn.fzn to smt2-files/z3/A005-dzn-fzn.smt2\n",
      "(3/15) Translating fzn-files/z3/A008-dzn.fzn to smt2-files/z3/A008-dzn-fzn.smt2\n",
      "(4/15) Translating fzn-files/z3/A002-dzn.fzn to smt2-files/z3/A002-dzn-fzn.smt2\n",
      "(5/15) Translating fzn-files/z3/A007-dzn.fzn to smt2-files/z3/A007-dzn-fzn.smt2\n",
      "(6/15) Translating fzn-files/z3/A001-dzn.fzn to smt2-files/z3/A001-dzn-fzn.smt2\n",
      "(7/15) Translating fzn-files/z3/A011-dzn.fzn to smt2-files/z3/A011-dzn-fzn.smt2\n",
      "(8/15) Translating fzn-files/z3/A014-dzn.fzn to smt2-files/z3/A014-dzn-fzn.smt2\n",
      "(9/15) Translating fzn-files/z3/A015-dzn.fzn to smt2-files/z3/A015-dzn-fzn.smt2\n",
      "(10/15) Translating fzn-files/z3/A012-dzn.fzn to smt2-files/z3/A012-dzn-fzn.smt2\n",
      "(11/15) Translating fzn-files/z3/A009-dzn.fzn to smt2-files/z3/A009-dzn-fzn.smt2\n",
      "(12/15) Translating fzn-files/z3/A004-dzn.fzn to smt2-files/z3/A004-dzn-fzn.smt2\n",
      "(13/15) Translating fzn-files/z3/A006-dzn.fzn to smt2-files/z3/A006-dzn-fzn.smt2\n",
      "(14/15) Translating fzn-files/z3/A013-dzn.fzn to smt2-files/z3/A013-dzn-fzn.smt2\n",
      "(15/15) Translating fzn-files/z3/A010-dzn.fzn to smt2-files/z3/A010-dzn-fzn.smt2\n"
     ]
    }
   ],
   "source": [
    "smt2_path = 'smt2-files/z3/'\n",
    "fzn2smt2_base_cmd = '../fzn2omt/fzn2smt2.py --solver z3 --smt2 '\n",
    "translate_count = 0\n",
    "for fzn in fzn_files:\n",
    "    translate_count += 1\n",
    "    fzn2smt2_transform_cmd = fzn2smt2_base_cmd + smt2_path \\\n",
    "    + fzn.replace('.', '-') + '.smt2 ' + fzn_path + fzn\n",
    "    print(f'''({translate_count}/{len(fzn_files)}) Translating {fzn_path + fzn} to {smt2_path + fzn.replace('.', '-')}.smt2''')\n",
    "    my_env = os.environ.copy()\n",
    "    my_env['PATH'] = \"/home/kw/optimathsat/bin/:\" + my_env['PATH']\n",
    "    subprocess.check_output(fzn2smt2_transform_cmd, shell=True, env=my_env,\n",
    "                                     universal_newlines=True)"
   ]
  },
  {
   "cell_type": "markdown",
   "metadata": {},
   "source": [
    "### Adjust `smt2` Files According to 7.5 in Paper\n",
    "\n",
    "- Remove `OptiMathSAT` specific settings\n",
    "- Add lower and upper bounds for the decision variable `pfc`"
   ]
  },
  {
   "cell_type": "code",
   "execution_count": 18,
   "metadata": {
    "collapsed": true
   },
   "outputs": [
    {
     "name": "stdout",
     "output_type": "stream",
     "text": [
      "A010-dzn-fzn\n",
      "12\n",
      "A003-dzn-fzn\n",
      "24\n",
      "A002-dzn-fzn\n",
      "24\n",
      "A013-dzn-fzn\n",
      "4\n",
      "A007-dzn-fzn\n",
      "6\n",
      "A008-dzn-fzn\n",
      "6\n",
      "A015-dzn-fzn\n",
      "8\n",
      "A012-dzn-fzn\n",
      "2\n",
      "A014-dzn-fzn\n",
      "16\n",
      "A009-dzn-fzn\n",
      "8\n",
      "A004-dzn-fzn\n",
      "4\n",
      "A001-dzn-fzn\n",
      "20\n",
      "A006-dzn-fzn\n",
      "6\n",
      "A011-dzn-fzn\n",
      "16\n",
      "A005-dzn-fzn\n",
      "4\n"
     ]
    }
   ],
   "source": [
    "import os\n",
    "import re\n",
    "\n",
    "smt2_path = 'smt2-files/z3'\n",
    "\n",
    "for file in os.listdir(smt2_path):\n",
    "    if file.endswith(\".smt2\"):\n",
    "        with open(smt2_path+'/'+file, 'r+') as myfile:\n",
    "            data = \"\".join(line for line in myfile)\n",
    "\n",
    "        filename = os.path.splitext(file)[0]\n",
    "        print(filename)\n",
    "\n",
    "        newFile = open(os.path.join(smt2_path, filename +'_v3.smt2'),\"w+\")\n",
    "        newFile.write(data)\n",
    "        newFile.close()\n",
    "\n",
    "        openFile = open(os.path.join(smt2_path, filename +'_v3.smt2'))\n",
    "        data = openFile.readlines()\n",
    "        additionalLines = data[-5:]\n",
    "        data = data[:-5]\n",
    "        openFile.close()\n",
    "\n",
    "        newFile = open(os.path.join(smt2_path, filename +'_v3.smt2'),\"w+\")\n",
    "        newFile.writelines([item for item in data])\n",
    "        newFile.close()\n",
    "\n",
    "        with open(os.path.join(smt2_path, filename +'_v3.smt2'),\"r\") as myfile:\n",
    "            data = \"\".join(line for line in myfile)\n",
    "        newFile = open(os.path.join(smt2_path, filename +'_v3.smt2'),\"w+\")\n",
    "        newFile.write(data)\n",
    "        matches = re.findall(r'\\(define-fun .\\d\\d \\(\\) Int (\\d+)\\)', data)\n",
    "        try:\n",
    "            nbChambers = int(matches[0])\n",
    "            print(nbChambers)\n",
    "            k = 1\n",
    "            for i in range(1,nbChambers+1):\n",
    "                lb = f'''(define-fun lbound{str(i)} () Bool (> X_INTRODUCED_{str(i-1)}_ 0))\\n'''\n",
    "                ub = f'''(define-fun ubound{str(i)} () Bool (<= X_INTRODUCED_{str(i-1)}_ {str(nbChambers)}))\\n'''\n",
    "                assertLb = f'''(assert lbound{str(i)})\\n'''\n",
    "                assertUb = f'''(assert ubound{str(i)})\\n'''\n",
    "\n",
    "                newFile.write(lb)\n",
    "                newFile.write(ub)\n",
    "                newFile.write(assertLb)\n",
    "                newFile.write(assertUb)\n",
    "        except:\n",
    "            print(f'''Check {filename} for completeness - data missing?''')\n",
    "        \n",
    "        newFile.writelines([item for item in additionalLines])\n",
    "        newFile.close()"
   ]
  },
  {
   "cell_type": "markdown",
   "metadata": {},
   "source": [
    "## Test Generated `smt2` Files Using `z3`\n",
    "\n",
    "This shoud generate the `smt2` file without any error. If this was the case then the `z3` prover can be called on a file by running\n",
    "\n",
    "\n",
    "```zsh\n",
    "z3 output/A001-dzn-smt2-fzn.smt2 \n",
    "```\n",
    "\n",
    "yielding something similar to\n",
    "\n",
    "```zsh\n",
    "z3 output/A001-dzn-smt2-fzn.smt2                                                       \n",
    "sat\n",
    "(objectives\n",
    " (obj 41881)\n",
    ")\n",
    "(model \n",
    "  (define-fun X_INTRODUCED_981_ () Bool\n",
    "    false)\n",
    "  (define-fun X_INTRODUCED_348_ () Bool\n",
    "    false)\n",
    "   \n",
    "   .....\n",
    "```"
   ]
  },
  {
   "cell_type": "code",
   "execution_count": null,
   "metadata": {
    "scrolled": true
   },
   "outputs": [],
   "source": [
    "result = subprocess.check_output('../z3/build/z3 smt2-files/A012-dzn-fzn.smt2', \n",
    "                        shell=True, universal_newlines=True)\n",
    "print(result)"
   ]
  }
 ],
 "metadata": {
  "kernelspec": {
   "display_name": "Python 3",
   "language": "python",
   "name": "python3"
  },
  "language_info": {
   "codemirror_mode": {
    "name": "ipython",
    "version": 3
   },
   "file_extension": ".py",
   "mimetype": "text/x-python",
   "name": "python",
   "nbconvert_exporter": "python",
   "pygments_lexer": "ipython3",
   "version": "3.7.6"
  }
 },
 "nbformat": 4,
 "nbformat_minor": 4
}
