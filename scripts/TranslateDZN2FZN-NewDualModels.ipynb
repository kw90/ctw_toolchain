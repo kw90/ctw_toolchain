{
 "cells": [
  {
   "cell_type": "markdown",
   "metadata": {},
   "source": [
    "# Translate `dzn` to `fzn`"
   ]
  },
  {
   "cell_type": "markdown",
   "metadata": {},
   "source": [
    "### Check Versions of Tools"
   ]
  },
  {
   "cell_type": "code",
   "execution_count": 1,
   "metadata": {},
   "outputs": [
    {
     "data": {
      "text/plain": [
       "'MiniZinc to FlatZinc converter, version 2.3.2\\nCopyright (C) 2014-2020 Monash University, NICTA, Data61\\n'"
      ]
     },
     "execution_count": 1,
     "metadata": {},
     "output_type": "execute_result"
    }
   ],
   "source": [
    "import subprocess\n",
    "\n",
    "output = subprocess.check_output(\"../../minizinc/build/minizinc --version\", shell=True, universal_newlines=True)\n",
    "output"
   ]
  },
  {
   "cell_type": "code",
   "execution_count": 2,
   "metadata": {},
   "outputs": [
    {
     "data": {
      "text/plain": [
       "'fzn-or-tools\\nDebug build (NDEBUG not #defined)\\n'"
      ]
     },
     "execution_count": 2,
     "metadata": {},
     "output_type": "execute_result"
    }
   ],
   "source": [
    "import subprocess\n",
    "\n",
    "output = subprocess.check_output(\"../../or-tools/bin/fzn-or-tools --version\", shell=True, universal_newlines=True)\n",
    "output"
   ]
  },
  {
   "cell_type": "markdown",
   "metadata": {},
   "source": [
    "## Transform `dzn` to `fzn` Using `Mz1-noAbs-dualModel.mzn`"
   ]
  },
  {
   "cell_type": "markdown",
   "metadata": {},
   "source": [
    "Then transform the desired `.dzn` file to `.fzn` using the `Mz1-noAbs-dualModel.mzn` MiniZinc model."
   ]
  },
  {
   "cell_type": "code",
   "execution_count": 3,
   "metadata": {
    "scrolled": true
   },
   "outputs": [
    {
     "data": {
      "text/plain": [
       "278"
      ]
     },
     "execution_count": 3,
     "metadata": {},
     "output_type": "execute_result"
    }
   ],
   "source": [
    "import os\n",
    "\n",
    "dzn_files = []\n",
    "dzn_path = '../data/dzn/'\n",
    "\n",
    "for filename in os.listdir(dzn_path):\n",
    "    if filename.endswith(\".dzn\"):\n",
    "        dzn_files.append(filename)\n",
    "len(dzn_files)"
   ]
  },
  {
   "cell_type": "code",
   "execution_count": 4,
   "metadata": {
    "scrolled": false
   },
   "outputs": [
    {
     "name": "stdout",
     "output_type": "stream",
     "text": [
      "(278/278) Translating ../data/dzn/R024.dzn to ../data/fzn/or-tools/Mz1-noAbs/R024-dzn.fzn"
     ]
    }
   ],
   "source": [
    "import sys\n",
    "\n",
    "fzn_path = '../data/fzn/or-tools/Mz1-noAbs-dualModel/'\n",
    "minizinc_base_cmd = '../../minizinc/build/minizinc \\\n",
    "    -Werror \\\n",
    "    --compile --solver org.minizinc.mzn-fzn \\\n",
    "    ../models/mzn/Mz1-noAbs-dualmodel.mzn '\n",
    "translate_count = 0\n",
    "for dzn in dzn_files:\n",
    "    translate_count += 1\n",
    "    minizinc_transform_cmd = minizinc_base_cmd + dzn_path + dzn \\\n",
    "        + ' --output-to-file ' + fzn_path + dzn.replace('.', '-') + '.fzn'\n",
    "    print(f'''\\r({translate_count}/{len(dzn_files)}) Translating {dzn_path + dzn} to {fzn_path + dzn.replace('.', '-')}.fzn''', end='')\n",
    "    sys.stdout.flush()\n",
    "    subprocess.check_output(minizinc_transform_cmd, shell=True, \n",
    "                                     universal_newlines=True)"
   ]
  },
  {
   "cell_type": "markdown",
   "metadata": {},
   "source": [
    "## Transform `dzn` to `fzn` Using `Mz1-noAbs-dualModel-finalSearchAnnotation.mzn`"
   ]
  },
  {
   "cell_type": "markdown",
   "metadata": {},
   "source": [
    "Then transform the desired `.dzn` file to `.fzn` using the `Mz1-noAbs-dualModel-finalSearchAnnotation.mzn` MiniZinc model.\n",
    "\n",
    "**NOTE**: This model does not currently work, because `indomain_split_random` is not supported by OR-Tools, as it is not part of the requirements for the minizinc challenge. Thus, a call to `fzn-or-tools` with a generated `fzn` using this model fails with the following message:\n",
    "\n",
    "```\n",
    "Unsupported select: indomain_split_random\n",
    "*** Check failure stack trace: ***\n",
    "    @     0x7f097055846c  google::LogMessage::Fail()\n",
    "    @     0x7f09705583b4  google::LogMessage::SendToLog()\n",
    "    @     0x7f0970557cf5  google::LogMessage::Flush()\n",
    "    @     0x7f097055b5ac  google::LogMessageFatal::~LogMessageFatal()\n",
    "    @     0x7f0970a1f5f0  operations_research::sat::SolveFzWithCpModelProto()\n",
    "    @     0x55e81498365f  main\n",
    "    @     0x7f096f9b1b97  __libc_start_main\n",
    "    @     0x55e814983b1a  _start\n",
    "    @              (nil)  (unknown)\n",
    "Aborted\n",
    "```"
   ]
  },
  {
   "cell_type": "code",
   "execution_count": 5,
   "metadata": {
    "scrolled": true
   },
   "outputs": [
    {
     "data": {
      "text/plain": [
       "278"
      ]
     },
     "execution_count": 5,
     "metadata": {},
     "output_type": "execute_result"
    }
   ],
   "source": [
    "import os\n",
    "\n",
    "dzn_files = []\n",
    "dzn_path = '../data/dzn/'\n",
    "\n",
    "for filename in os.listdir(dzn_path):\n",
    "    if filename.endswith(\".dzn\"):\n",
    "        dzn_files.append(filename)\n",
    "len(dzn_files)"
   ]
  },
  {
   "cell_type": "code",
   "execution_count": 7,
   "metadata": {},
   "outputs": [
    {
     "name": "stdout",
     "output_type": "stream",
     "text": [
      "(278/278) Translating ../data/dzn/R024.dzn to ../data/fzn/or-tools/Mz1-noAbs-dualModel-FinalSearchAnnotation/R024-dzn.fzn"
     ]
    }
   ],
   "source": [
    "import sys\n",
    "\n",
    "fzn_path = '../data/fzn/or-tools/Mz1-noAbs-dualModel-finalSearchAnnotation/'\n",
    "minizinc_base_cmd = '../../minizinc/build/minizinc \\\n",
    "    -Werror \\\n",
    "    --compile --solver org.minizinc.mzn-fzn \\\n",
    "    ../models/mzn/Mz1-noAbs-dualmodel-finalSearchAnnotation.mzn '\n",
    "translate_count = 0\n",
    "for dzn in dzn_files:\n",
    "    translate_count += 1\n",
    "    minizinc_transform_cmd = minizinc_base_cmd + dzn_path + dzn \\\n",
    "        + ' --output-to-file ' + fzn_path + dzn.replace('.', '-') + '.fzn'\n",
    "    print(f'''\\r({translate_count}/{len(dzn_files)}) Translating {dzn_path + dzn} to {fzn_path + dzn.replace('.', '-')}.fzn''', end='')\n",
    "    sys.stdout.flush()\n",
    "    subprocess.check_output(minizinc_transform_cmd, shell=True, \n",
    "                                     universal_newlines=True)"
   ]
  },
  {
   "cell_type": "markdown",
   "metadata": {},
   "source": [
    "## Test Generated `fzn` Files Using `OR-Tools`"
   ]
  },
  {
   "cell_type": "markdown",
   "metadata": {},
   "source": [
    "### $Mz_1$-noAbs-dualModel"
   ]
  },
  {
   "cell_type": "code",
   "execution_count": 9,
   "metadata": {},
   "outputs": [
    {
     "name": "stdout",
     "output_type": "stream",
     "text": [
      "S = 1;\n",
      "M = 1;\n",
      "obj = 88;\n",
      "pfc = array1d(1..4, [2, 4, 3, 1]);\n",
      "\n",
      "----------\n",
      "==========\n",
      "\n"
     ]
    }
   ],
   "source": [
    "output_Mz1 = subprocess.check_output(\n",
    "    \"../../or-tools/bin/fzn-or-tools ../data/fzn/or-tools/Mz1-noAbs-dualModel/A004-dzn.fzn\",\n",
    "    shell=True, universal_newlines=True)\n",
    "print(output_Mz1)"
   ]
  },
  {
   "cell_type": "code",
   "execution_count": 10,
   "metadata": {},
   "outputs": [
    {
     "name": "stdout",
     "output_type": "stream",
     "text": [
      "Output Mz1: \n",
      "\n",
      "S = 0;\n",
      "M = 0;\n",
      "obj = 1;\n",
      "pfc = array1d(1..18, [7, 3, 17, 9, 5, 1, 15, 13, 11, 8, 4, 18, 10, 6, 2, 16, 14, 12]);\n",
      "\n",
      "----------\n",
      "==========\n",
      "\n"
     ]
    }
   ],
   "source": [
    "output_Mz1 = subprocess.check_output(\n",
    "    \"../../or-tools/bin/fzn-or-tools ../data/fzn/or-tools/Mz1-noAbs-dualModel/R008-dzn.fzn\",\n",
    "    shell=True, universal_newlines=True)\n",
    "print(f'''Output Mz1: \\n\\n{output_Mz1}''')"
   ]
  },
  {
   "cell_type": "code",
   "execution_count": 11,
   "metadata": {},
   "outputs": [
    {
     "name": "stdout",
     "output_type": "stream",
     "text": [
      "Output Mz1: \n",
      "\n",
      "=====UNSATISFIABLE=====\n",
      "\n"
     ]
    }
   ],
   "source": [
    "output_Mz1 = subprocess.check_output(\n",
    "    \"../../or-tools/bin/fzn-or-tools ../data/fzn/or-tools/Mz1-noAbs-dualModel/R028-dzn.fzn\",\n",
    "    shell=True, universal_newlines=True)\n",
    "print(f'''Output Mz1: \\n\\n{output_Mz1}''')"
   ]
  },
  {
   "cell_type": "code",
   "execution_count": 12,
   "metadata": {},
   "outputs": [
    {
     "name": "stdout",
     "output_type": "stream",
     "text": [
      "Output Mz1: \n",
      "\n",
      "=====UNSATISFIABLE=====\n",
      "\n"
     ]
    }
   ],
   "source": [
    "output_Mz1 = subprocess.check_output(\n",
    "    \"../../or-tools/bin/fzn-or-tools ../data/fzn/or-tools/Mz1-noAbs-dualModel/R029-dzn.fzn\",\n",
    "    shell=True, universal_newlines=True)\n",
    "print(f'''Output Mz1: \\n\\n{output_Mz1}''')"
   ]
  },
  {
   "cell_type": "code",
   "execution_count": 13,
   "metadata": {},
   "outputs": [
    {
     "name": "stdout",
     "output_type": "stream",
     "text": [
      "Output Mz1: \n",
      "\n",
      "=====UNSATISFIABLE=====\n",
      "\n"
     ]
    }
   ],
   "source": [
    "output_Mz1 = subprocess.check_output(\n",
    "    \"../../or-tools/bin/fzn-or-tools ../data/fzn/or-tools/Mz1-noAbs-dualModel/R030-dzn.fzn\",\n",
    "    shell=True, universal_newlines=True)\n",
    "print(f'''Output Mz1: \\n\\n{output_Mz1}''')"
   ]
  },
  {
   "cell_type": "code",
   "execution_count": 14,
   "metadata": {},
   "outputs": [
    {
     "name": "stdout",
     "output_type": "stream",
     "text": [
      "Output Mz1: \n",
      "\n",
      "S = 1;\n",
      "M = 1;\n",
      "obj = 264;\n",
      "pfc = array1d(1..6, [3, 4, 1, 6, 5, 2]);\n",
      "\n",
      "----------\n",
      "==========\n",
      "\n"
     ]
    }
   ],
   "source": [
    "output_Mz1 = subprocess.check_output(\n",
    "    \"../../or-tools/bin/fzn-or-tools ../data/fzn/or-tools/Mz1-noAbs-dualModel/R033-dzn.fzn\",\n",
    "    shell=True, universal_newlines=True)\n",
    "print(f'''Output Mz1: \\n\\n{output_Mz1}''')"
   ]
  },
  {
   "cell_type": "code",
   "execution_count": 15,
   "metadata": {},
   "outputs": [
    {
     "name": "stdout",
     "output_type": "stream",
     "text": [
      "Output Mz1: \n",
      "\n",
      "S = 0;\n",
      "M = 0;\n",
      "obj = 1;\n",
      "pfc = array1d(1..6, [3, 1, 5, 4, 2, 6]);\n",
      "\n",
      "----------\n",
      "==========\n",
      "\n"
     ]
    }
   ],
   "source": [
    "output_Mz1 = subprocess.check_output(\n",
    "    \"../../or-tools/bin/fzn-or-tools ../data/fzn/or-tools/Mz1-noAbs-dualModel/R034-dzn.fzn\",\n",
    "    shell=True, universal_newlines=True)\n",
    "print(f'''Output Mz1: \\n\\n{output_Mz1}''')"
   ]
  }
 ],
 "metadata": {
  "kernelspec": {
   "display_name": "Python 3",
   "language": "python",
   "name": "python3"
  },
  "language_info": {
   "codemirror_mode": {
    "name": "ipython",
    "version": 3
   },
   "file_extension": ".py",
   "mimetype": "text/x-python",
   "name": "python",
   "nbconvert_exporter": "python",
   "pygments_lexer": "ipython3",
   "version": "3.7.6"
  }
 },
 "nbformat": 4,
 "nbformat_minor": 4
}
