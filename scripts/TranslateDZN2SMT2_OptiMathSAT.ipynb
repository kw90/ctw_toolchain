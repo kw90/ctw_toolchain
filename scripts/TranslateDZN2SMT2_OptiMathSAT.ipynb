{
 "cells": [
  {
   "cell_type": "markdown",
   "metadata": {},
   "source": [
    "# Translate `dzn` to `smt2` for OptiMathSAT"
   ]
  },
  {
   "cell_type": "markdown",
   "metadata": {},
   "source": [
    "### Check Versions of Tools"
   ]
  },
  {
   "cell_type": "code",
   "execution_count": 8,
   "metadata": {},
   "outputs": [
    {
     "data": {
      "text/plain": [
       "'MathSAT5 version 1.6.4 (d39a648d6bb7) (Feb 25 2020 14:02:07, gmp 6.1.2, gcc 9.2.1, 64-bit)\\n'"
      ]
     },
     "execution_count": 8,
     "metadata": {},
     "output_type": "execute_result"
    }
   ],
   "source": [
    "import subprocess\n",
    "\n",
    "output = subprocess.check_output(\"../../optimathsat/bin/optimathsat -version\", shell=True, universal_newlines=True)\n",
    "output"
   ]
  },
  {
   "cell_type": "code",
   "execution_count": 2,
   "metadata": {},
   "outputs": [
    {
     "data": {
      "text/plain": [
       "'MiniZinc to FlatZinc converter, version 2.3.2\\nCopyright (C) 2014-2020 Monash University, NICTA, Data61\\n'"
      ]
     },
     "execution_count": 2,
     "metadata": {},
     "output_type": "execute_result"
    }
   ],
   "source": [
    "output = subprocess.check_output(\"../../minizinc/build/minizinc --version\", shell=True, universal_newlines=True)\n",
    "output"
   ]
  },
  {
   "cell_type": "markdown",
   "metadata": {},
   "source": [
    "First generate the FlatZinc files using the MiniZinc tool. Make sure that a `smt2` folder is located inside `./minizinc/share/minizinc/`. Else, to enable OptiMathSAT's support for global constraints download the [smt2.tar.gz](http://optimathsat.disi.unitn.it/data/smt2.tar.gz) package and unpack it there using\n",
    "\n",
    "```zsh\n",
    "tar xf smt2.tar.gz $MINIZINC_PATH/share/minizinc/\n",
    "```\n",
    "\n",
    "If next output shows a list of `.mzn` files, then this dependency is satified."
   ]
  },
  {
   "cell_type": "code",
   "execution_count": 3,
   "metadata": {
    "scrolled": true
   },
   "outputs": [
    {
     "name": "stdout",
     "output_type": "stream",
     "text": [
      "total 292\n",
      "drwxr-xr-x  2 kw kw 4096 Jan 15  2018 .\n",
      "drwxr-xr-x 11 kw kw 4096 Jul  9 09:48 ..\n",
      "-rw-r--r--  1 kw kw  328 Nov 13  2017 alldifferent_except_0.mzn\n",
      "-rw-r--r--  1 kw kw  382 Nov 13  2017 all_different_int.mzn\n",
      "-rw-r--r--  1 kw kw  396 Nov 13  2017 all_different_set.mzn\n",
      "-rw-r--r--  1 kw kw  270 Nov 13  2017 all_disjoint.mzn\n",
      "-rw-r--r--  1 kw kw  150 Nov 14  2017 all_equal_int.mzn\n",
      "-rw-r--r--  1 kw kw  164 Nov 13  2017 all_equal_set.mzn\n",
      "-rw-r--r--  1 kw kw  351 Nov 13  2017 among.mzn\n",
      "-rw-r--r--  1 kw kw  305 Nov  8  2017 arg_max_float.mzn\n",
      "-rw-r--r--  1 kw kw  291 Nov  8  2017 arg_max_int.mzn\n",
      "-rw-r--r--  1 kw kw  306 Nov  8  2017 arg_min_float.mzn\n",
      "-rw-r--r--  1 kw kw  291 Nov  8  2017 arg_min_int.mzn\n",
      "-rw-r--r--  1 kw kw  480 Nov 13  2017 at_least_int.mzn\n",
      "-rw-r--r--  1 kw kw  506 Nov 14  2017 at_least_set.mzn\n",
      "-rw-r--r--  1 kw kw  340 Nov 13  2017 at_most1.mzn\n",
      "-rw-r--r--  1 kw kw  474 Nov 13  2017 at_most_int.mzn\n",
      "-rw-r--r--  1 kw kw  502 Nov 13  2017 at_most_set.mzn\n",
      "-rw-r--r--  1 kw kw 1162 Nov  8  2017 bin_packing_capa.mzn\n",
      "-rw-r--r--  1 kw kw 1044 Nov  8  2017 bin_packing_load.mzn\n",
      "-rw-r--r--  1 kw kw  883 Nov 14  2017 bin_packing.mzn\n",
      "-rw-r--r--  1 kw kw  765 Nov 14  2017 comparison_rel_array.mzn\n",
      "-rw-r--r--  1 kw kw  350 Nov 13  2017 count_eq.mzn\n",
      "-rw-r--r--  1 kw kw  382 Nov 13  2017 count_geq.mzn\n",
      "-rw-r--r--  1 kw kw  375 Nov 13  2017 count_gt.mzn\n",
      "-rw-r--r--  1 kw kw  379 Nov 13  2017 count_leq.mzn\n",
      "-rw-r--r--  1 kw kw  371 Nov 13  2017 count_lt.mzn\n",
      "-rw-r--r--  1 kw kw  371 Nov 13  2017 count_neq.mzn\n",
      "-rw-r--r--  1 kw kw  398 Nov 13  2017 decreasing_bool.mzn\n",
      "-rw-r--r--  1 kw kw  404 Nov 13  2017 decreasing_float.mzn\n",
      "-rw-r--r--  1 kw kw  393 Nov 13  2017 decreasing_int.mzn\n",
      "-rw-r--r--  1 kw kw  408 Nov 14  2017 decreasing_set.mzn\n",
      "-rw-r--r--  1 kw kw 1589 Nov 13  2017 diffn_k.mzn\n",
      "-rw-r--r--  1 kw kw  853 Nov 14  2017 diffn.mzn\n",
      "-rw-r--r--  1 kw kw 1731 Nov 13  2017 diffn_nonstrict_k.mzn\n",
      "-rw-r--r--  1 kw kw  919 Nov 14  2017 diffn_nonstrict.mzn\n",
      "-rw-r--r--  1 kw kw  276 Nov 14  2017 disjoint.mzn\n",
      "-rw-r--r--  1 kw kw  836 Nov  8  2017 disjunctive.mzn\n",
      "-rw-r--r--  1 kw kw  748 Nov  8  2017 disjunctive_strict.mzn\n",
      "-rw-r--r--  1 kw kw  696 Nov 14  2017 distribute.mzn\n",
      "-rw-r--r--  1 kw kw  474 Nov 13  2017 exactly_int.mzn\n",
      "-rw-r--r--  1 kw kw  502 Nov 13  2017 exactly_set.mzn\n",
      "-rw-r--r--  1 kw kw  851 Nov 14  2017 global_cardinality_closed.mzn\n",
      "-rw-r--r--  1 kw kw  396 Nov  8  2017 global_cardinality_fn.mzn\n",
      "-rw-r--r--  1 kw kw  914 Nov 13  2017 global_cardinality_low_up_closed.mzn\n",
      "-rw-r--r--  1 kw kw  795 Nov 13  2017 global_cardinality_low_up.mzn\n",
      "-rw-r--r--  1 kw kw  717 Nov 14  2017 global_cardinality.mzn\n",
      "-rw-r--r--  1 kw kw  398 Nov 13  2017 increasing_bool.mzn\n",
      "-rw-r--r--  1 kw kw  403 Nov 13  2017 increasing_float.mzn\n",
      "-rw-r--r--  1 kw kw  394 Nov 13  2017 increasing_int.mzn\n",
      "-rw-r--r--  1 kw kw  408 Nov 13  2017 increasing_set.mzn\n",
      "-rw-r--r--  1 kw kw  728 Nov 14  2017 int_set_channel.mzn\n",
      "-rw-r--r--  1 kw kw  582 Nov  8  2017 inverse.mzn\n",
      "-rw-r--r--  1 kw kw  827 Nov  8  2017 inverse_set.mzn\n",
      "-rw-r--r--  1 kw kw  708 Nov 14  2017 link_set_to_booleans.mzn\n",
      "-rw-r--r--  1 kw kw  375 Nov 11  2017 maximum_float.mzn\n",
      "-rw-r--r--  1 kw kw  367 Nov 11  2017 maximum_int.mzn\n",
      "-rw-r--r--  1 kw kw  422 Nov 13  2017 member_bool.mzn\n",
      "-rw-r--r--  1 kw kw  431 Nov 13  2017 member_float.mzn\n",
      "-rw-r--r--  1 kw kw  414 Nov 13  2017 member_int.mzn\n",
      "-rw-r--r--  1 kw kw  442 Nov 13  2017 member_set.mzn\n",
      "-rw-r--r--  1 kw kw  372 Nov 11  2017 minimum_float.mzn\n",
      "-rw-r--r--  1 kw kw  367 Nov 11  2017 minimum_int.mzn\n",
      "-rw-r--r--  1 kw kw  283 Nov 13  2017 nvalue.mzn\n",
      "-rw-r--r--  1 kw kw  712 Nov 14  2017 range.mzn\n",
      "-rw-r--r--  1 kw kw 1751 Nov 13  2017 redefinitions-2.0.2.mzn\n",
      "-rw-r--r--  1 kw kw 1434 Nov 13  2017 redefinitions-2.0.mzn\n",
      "-rw-r--r--  1 kw kw  678 Nov 15  2017 redefinitions-2.1.mzn\n",
      "-rw-r--r--  1 kw kw  571 Nov 14  2017 roots.mzn\n",
      "-rw-r--r--  1 kw kw  764 Nov  8  2017 sum_pred.mzn\n",
      "-rw-r--r--  1 kw kw  445 Nov 15  2017 symmetric_all_different.mzn\n",
      "-rw-r--r--  1 kw kw  280 Nov 15  2017 value_precede_int.mzn\n",
      "-rw-r--r--  1 kw kw  294 Nov 15  2017 value_precede_set.mzn\n",
      "\n"
     ]
    }
   ],
   "source": [
    "output = subprocess.check_output(\"ls -la ../../minizinc/share/minizinc/smt2/\", shell=True, universal_newlines=True)\n",
    "print(output)"
   ]
  },
  {
   "cell_type": "markdown",
   "metadata": {},
   "source": [
    "## Transform `dzn` to `fzn` Using a Model `mzn`"
   ]
  },
  {
   "cell_type": "markdown",
   "metadata": {},
   "source": [
    "Then transform the desired `.dzn` files to `.fzn` using a `Mz.mzn` MiniZinc model."
   ]
  },
  {
   "cell_type": "markdown",
   "metadata": {},
   "source": [
    "First list all `dzn` files contained in the `dzn_path` that should get processed."
   ]
  },
  {
   "cell_type": "code",
   "execution_count": 4,
   "metadata": {
    "scrolled": true
   },
   "outputs": [
    {
     "data": {
      "text/plain": [
       "278"
      ]
     },
     "execution_count": 4,
     "metadata": {},
     "output_type": "execute_result"
    }
   ],
   "source": [
    "import os\n",
    "\n",
    "dzn_files = []\n",
    "dzn_path = '../data/dzn/'\n",
    "\n",
    "for filename in os.listdir(dzn_path):\n",
    "    if filename.endswith(\".dzn\"):\n",
    "        dzn_files.append(filename)\n",
    "len(dzn_files)"
   ]
  },
  {
   "cell_type": "markdown",
   "metadata": {},
   "source": [
    "#### Model $Mz_1$"
   ]
  },
  {
   "cell_type": "code",
   "execution_count": 5,
   "metadata": {
    "scrolled": true
   },
   "outputs": [
    {
     "name": "stdout",
     "output_type": "stream",
     "text": [
      "(278/278) Translating ../data/dzn/R024.dzn to ../data/fzn/smt2/Mz1-noAbs/R024-dzn.fzn"
     ]
    }
   ],
   "source": [
    "import sys\n",
    "\n",
    "fzn_path = '../data/fzn/smt2/Mz1-noAbs/'\n",
    "minizinc_base_cmd = '../../minizinc/build/minizinc \\\n",
    "    -Werror \\\n",
    "    --compile --solver org.minizinc.mzn-fzn \\\n",
    "    --search-dir ../../minizinc/share/minizinc/smt2/ \\\n",
    "    ../models/mzn/Mz1-noAbs.mzn '\n",
    "translate_count = 0\n",
    "for dzn in dzn_files:\n",
    "    translate_count += 1\n",
    "    minizinc_transform_cmd = minizinc_base_cmd + dzn_path + dzn \\\n",
    "        + ' --output-to-file ' + fzn_path + dzn.replace('.', '-') + '.fzn'\n",
    "    print(f'''\\r({translate_count}/{len(dzn_files)}) Translating {dzn_path + dzn} to {fzn_path + dzn.replace('.', '-')}.fzn''', end='')\n",
    "    sys.stdout.flush()\n",
    "    subprocess.check_output(minizinc_transform_cmd, shell=True, \n",
    "                                     universal_newlines=True)"
   ]
  },
  {
   "cell_type": "markdown",
   "metadata": {},
   "source": [
    "#### Model $Mz_2$"
   ]
  },
  {
   "cell_type": "code",
   "execution_count": 6,
   "metadata": {},
   "outputs": [
    {
     "name": "stdout",
     "output_type": "stream",
     "text": [
      "(278/278) Translating ../data/dzn/R024.dzn to ../data/fzn/smt2/Mz2-noAbs/R024-dzn.fzn"
     ]
    }
   ],
   "source": [
    "import sys\n",
    "\n",
    "fzn_path = '../data/fzn/smt2/Mz2-noAbs/'\n",
    "minizinc_base_cmd = '../../minizinc/build/minizinc \\\n",
    "    -Werror \\\n",
    "    --compile --solver org.minizinc.mzn-fzn \\\n",
    "    --search-dir ../../minizinc/share/minizinc/smt2/ \\\n",
    "    ../models/mzn/Mz2-noAbs.mzn '\n",
    "translate_count = 0\n",
    "for dzn in dzn_files:\n",
    "    translate_count += 1\n",
    "    minizinc_transform_cmd = minizinc_base_cmd + dzn_path + dzn \\\n",
    "        + ' --output-to-file ' + fzn_path + dzn.replace('.', '-') + '.fzn'\n",
    "    print(f'''\\r({translate_count}/{len(dzn_files)}) Translating {dzn_path + dzn} to {fzn_path + dzn.replace('.', '-')}.fzn''', end='')\n",
    "    sys.stdout.flush()\n",
    "    subprocess.check_output(minizinc_transform_cmd, shell=True, \n",
    "                                     universal_newlines=True)"
   ]
  },
  {
   "cell_type": "markdown",
   "metadata": {},
   "source": [
    "## Translate `fzn` to `smt2`"
   ]
  },
  {
   "cell_type": "markdown",
   "metadata": {},
   "source": [
    "The generated `.fzn` files can be used to generate a `.smt2` files using the `fzn2smt2.py` script from this [project](https://github.com/PatrickTrentin88/fzn2omt).\n",
    "\n",
    "**NOTE**: Files `R001` (no cables) and `R002` (one one-sided cable) throw an error while translating."
   ]
  },
  {
   "cell_type": "markdown",
   "metadata": {},
   "source": [
    "#### $Mz_1$"
   ]
  },
  {
   "cell_type": "code",
   "execution_count": 7,
   "metadata": {},
   "outputs": [
    {
     "data": {
      "text/plain": [
       "278"
      ]
     },
     "execution_count": 7,
     "metadata": {},
     "output_type": "execute_result"
    }
   ],
   "source": [
    "import os\n",
    "\n",
    "fzn_files = []\n",
    "fzn_path = '../data/fzn/smt2/Mz1-noAbs/'\n",
    "\n",
    "for filename in os.listdir(fzn_path):\n",
    "    if filename.endswith(\".fzn\"):\n",
    "        fzn_files.append(filename)\n",
    "len(fzn_files)"
   ]
  },
  {
   "cell_type": "code",
   "execution_count": 9,
   "metadata": {
    "scrolled": true
   },
   "outputs": [
    {
     "name": "stdout",
     "output_type": "stream",
     "text": [
      "Traceback (most recent call last):smt2/Mz1-noAbs/R002-dzn.fzn to ../data/smt2/optimathsat/Mz1-noAbs/R002-dzn-fzn.smt2\n",
      "  File \"../../fzn2omt/bin/fzn2optimathsat.py\", line 360, in <module>\n",
      "    main()\n",
      "  File \"../../fzn2omt/bin/fzn2optimathsat.py\", line 356, in main\n",
      "    optimathsat(config, solver_config)\n",
      "  File \"../../fzn2omt/bin/fzn2optimathsat.py\", line 42, in optimathsat\n",
      "    optimathsat_compile(config, solver_config)\n",
      "  File \"../../fzn2omt/bin/fzn2optimathsat.py\", line 110, in optimathsat_compile\n",
      "    result = subprocess.run(args, capture_output=True, text=True, check=True)\n",
      "  File \"/srv/conda/envs/notebook/lib/python3.7/subprocess.py\", line 512, in run\n",
      "    output=stdout, stderr=stderr)\n",
      "subprocess.CalledProcessError: Command '['optimathsat', '-input=fzn', '../data/fzn/smt2/Mz1-noAbs/R002-dzn.fzn', '-debug.api_call_trace=1', '-debug.api_call_trace_dump_config=False', '-debug.api_call_trace_filename=../data/smt2/optimathsat/Mz1-noAbs/R002-dzn-fzn.smt2', '-debug.solver_enabled=False', '-opt.fzn.asoft_encoding=False', '-opt.fzn.bv_integers=False']' died with <Signals.SIGSEGV: 11>.\n",
      "Traceback (most recent call last):smt2/Mz1-noAbs/R001-dzn.fzn to ../data/smt2/optimathsat/Mz1-noAbs/R001-dzn-fzn.smt2\n",
      "  File \"../../fzn2omt/bin/fzn2optimathsat.py\", line 360, in <module>\n",
      "    main()\n",
      "  File \"../../fzn2omt/bin/fzn2optimathsat.py\", line 356, in main\n",
      "    optimathsat(config, solver_config)\n",
      "  File \"../../fzn2omt/bin/fzn2optimathsat.py\", line 42, in optimathsat\n",
      "    optimathsat_compile(config, solver_config)\n",
      "  File \"../../fzn2omt/bin/fzn2optimathsat.py\", line 110, in optimathsat_compile\n",
      "    result = subprocess.run(args, capture_output=True, text=True, check=True)\n",
      "  File \"/srv/conda/envs/notebook/lib/python3.7/subprocess.py\", line 512, in run\n",
      "    output=stdout, stderr=stderr)\n",
      "subprocess.CalledProcessError: Command '['optimathsat', '-input=fzn', '../data/fzn/smt2/Mz1-noAbs/R001-dzn.fzn', '-debug.api_call_trace=1', '-debug.api_call_trace_dump_config=False', '-debug.api_call_trace_filename=../data/smt2/optimathsat/Mz1-noAbs/R001-dzn-fzn.smt2', '-debug.solver_enabled=False', '-opt.fzn.asoft_encoding=False', '-opt.fzn.bv_integers=False']' died with <Signals.SIGSEGV: 11>.\n",
      "(278/278) Translating ../data/fzn/smt2/Mz1-noAbs/A027-dzn.fzn to ../data/smt2/optimathsat/Mz1-noAbs/A027-dzn-fzn.smt2\r"
     ]
    }
   ],
   "source": [
    "smt2_path = '../data/smt2/optimathsat/Mz1-noAbs/'\n",
    "fzn2smt2_base_cmd = '../../fzn2omt/bin/fzn2optimathsat.py '\n",
    "translate_count = 0\n",
    "my_env = os.environ.copy()\n",
    "my_env['PATH'] = f'''/home/{my_env['USER']}/optimathsat/bin/:{my_env['PATH']}'''\n",
    "for fzn in fzn_files:\n",
    "    translate_count += 1\n",
    "    fzn2smt2_transform_cmd = fzn2smt2_base_cmd + fzn_path + fzn \\\n",
    "            + ' --smt2 ' + smt2_path + fzn.replace('.', '-') + '.smt2'\n",
    "    print(f'''\\r({translate_count}/{len(fzn_files)}) Translating {fzn_path + fzn} to {smt2_path + fzn.replace('.', '-')}.smt2''', end='')\n",
    "    try:\n",
    "        output = subprocess.check_output(fzn2smt2_transform_cmd, shell=True, env=my_env,\n",
    "                                     universal_newlines=True, stderr=subprocess.STDOUT)\n",
    "    except Exception as e:\n",
    "        output = str(e.output)\n",
    "    print(f'''\\r{output}''', end='')\n",
    "    sys.stdout.flush()"
   ]
  },
  {
   "cell_type": "markdown",
   "metadata": {},
   "source": [
    "#### $Mz_2$"
   ]
  },
  {
   "cell_type": "code",
   "execution_count": 10,
   "metadata": {},
   "outputs": [
    {
     "data": {
      "text/plain": [
       "278"
      ]
     },
     "execution_count": 10,
     "metadata": {},
     "output_type": "execute_result"
    }
   ],
   "source": [
    "import os\n",
    "\n",
    "fzn_files = []\n",
    "fzn_path = '../data/fzn/smt2/Mz2-noAbs/'\n",
    "\n",
    "for filename in os.listdir(fzn_path):\n",
    "    if filename.endswith(\".fzn\"):\n",
    "        fzn_files.append(filename)\n",
    "len(fzn_files)"
   ]
  },
  {
   "cell_type": "code",
   "execution_count": null,
   "metadata": {},
   "outputs": [
    {
     "name": "stdout",
     "output_type": "stream",
     "text": [
      "Traceback (most recent call last):smt2/Mz2-noAbs/R002-dzn.fzn to ../data/smt2/optimathsat/Mz2-noAbs/R002-dzn-fzn.smt2\n",
      "  File \"../../fzn2omt/bin/fzn2optimathsat.py\", line 360, in <module>\n",
      "    main()\n",
      "  File \"../../fzn2omt/bin/fzn2optimathsat.py\", line 356, in main\n",
      "    optimathsat(config, solver_config)\n",
      "  File \"../../fzn2omt/bin/fzn2optimathsat.py\", line 42, in optimathsat\n",
      "    optimathsat_compile(config, solver_config)\n",
      "  File \"../../fzn2omt/bin/fzn2optimathsat.py\", line 110, in optimathsat_compile\n",
      "    result = subprocess.run(args, capture_output=True, text=True, check=True)\n",
      "  File \"/srv/conda/envs/notebook/lib/python3.7/subprocess.py\", line 512, in run\n",
      "    output=stdout, stderr=stderr)\n",
      "subprocess.CalledProcessError: Command '['optimathsat', '-input=fzn', '../data/fzn/smt2/Mz2-noAbs/R002-dzn.fzn', '-debug.api_call_trace=1', '-debug.api_call_trace_dump_config=False', '-debug.api_call_trace_filename=../data/smt2/optimathsat/Mz2-noAbs/R002-dzn-fzn.smt2', '-debug.solver_enabled=False', '-opt.fzn.asoft_encoding=False', '-opt.fzn.bv_integers=False']' died with <Signals.SIGSEGV: 11>.\n",
      "(230/278) Translating ../data/fzn/smt2/Mz2-noAbs/R044-dzn.fzn to ../data/smt2/optimathsat/Mz2-noAbs/R044-dzn-fzn.smt2"
     ]
    }
   ],
   "source": [
    "smt2_path = '../data/smt2/optimathsat/Mz2-noAbs/'\n",
    "fzn2smt2_base_cmd = '../../fzn2omt/bin/fzn2optimathsat.py '\n",
    "translate_count = 0\n",
    "my_env = os.environ.copy()\n",
    "my_env['PATH'] = f'''/home/{my_env['USER']}/optimathsat/bin/:{my_env['PATH']}'''\n",
    "for fzn in fzn_files:\n",
    "    translate_count += 1\n",
    "    fzn2smt2_transform_cmd = fzn2smt2_base_cmd + fzn_path + fzn \\\n",
    "            + ' --smt2 ' + smt2_path + fzn.replace('.', '-') + '.smt2'\n",
    "    print(f'''\\r({translate_count}/{len(fzn_files)}) Translating {fzn_path + fzn} to {smt2_path + fzn.replace('.', '-')}.smt2''', end='')\n",
    "    try:\n",
    "        output = subprocess.check_output(fzn2smt2_transform_cmd, shell=True, env=my_env,\n",
    "                                     universal_newlines=True, stderr=subprocess.STDOUT)\n",
    "    except Exception as e:\n",
    "        output = str(e.output)\n",
    "    print(f'''\\r{output}''', end='')\n",
    "    sys.stdout.flush()"
   ]
  },
  {
   "cell_type": "markdown",
   "metadata": {},
   "source": [
    "### Adjust `smt2` Files According to Chapter 5.2 in Paper\n",
    "\n",
    "Contrary to the `z3` version we're dropping the settings and the optimization function for OptiMathSAT `smt2` files, as those are set by the [OMT Python Timeout Wrapper](https://github.com/kw90/omt_python_timeout_wrapper).\n",
    "\n",
    "- Add lower and upper bounds for the decision variable `pfc`\n",
    "- Add number of cavities as comments for later solution extraction (workaround)"
   ]
  },
  {
   "cell_type": "code",
   "execution_count": null,
   "metadata": {},
   "outputs": [],
   "source": [
    "import os\n",
    "import re\n",
    "\n",
    "def adjust_smt2_file(smt2_path: str, file: str, write_path: str):\n",
    "\n",
    "    with open(smt2_path+'/'+file, 'r+') as myfile:\n",
    "        data = \"\".join(line for line in myfile)\n",
    "\n",
    "    filename = os.path.splitext(file)[0]\n",
    "\n",
    "    newFile = open(os.path.join(write_path, filename +'_v3.smt2'),\"w+\")\n",
    "    newFile.write(data)\n",
    "    newFile.close()\n",
    "\n",
    "    openFile = open(os.path.join(write_path, filename +'_v3.smt2'))\n",
    "    data = openFile.readlines()\n",
    "    additionalLines = data[-6:]\n",
    "    data = data[:-6]\n",
    "    openFile.close()\n",
    "\n",
    "    newFile = open(os.path.join(write_path, filename +'_v3.smt2'),\"w+\")\n",
    "    newFile.writelines([item for item in data])\n",
    "    newFile.close()\n",
    "\n",
    "    with open(os.path.join(write_path, filename +'_v3.smt2'),\"r\") as myfile:\n",
    "        data = \"\".join(line for line in myfile)\n",
    "    newFile = open(os.path.join(write_path, filename +'_v3.smt2'),\"w+\")\n",
    "    matches = re.findall(r'\\(define-fun .\\d\\d \\(\\) Int (\\d+)\\)', data)\n",
    "    try:\n",
    "        cavity_count = int(matches[0])\n",
    "        newFile.write(f''';; k={cavity_count}\\n''')\n",
    "        newFile.write(f''';; Extract pfc from\\n''')\n",
    "        for i in range(0,cavity_count):\n",
    "            newFile.write(f''';; X_INTRODUCED_{str(i)}_\\n''')\n",
    "        newFile.write(data)\n",
    "        for i in range(1,cavity_count+1):\n",
    "            lb = f'''(define-fun lbound{str(i)} () Bool (> X_INTRODUCED_{str(i-1)}_ 0))\\n'''\n",
    "            ub = f'''(define-fun ubound{str(i)} () Bool (<= X_INTRODUCED_{str(i-1)}_ {str(cavity_count)}))\\n'''\n",
    "            assertLb = f'''(assert lbound{str(i)})\\n'''\n",
    "            assertUb = f'''(assert ubound{str(i)})\\n'''\n",
    "\n",
    "            newFile.write(lb)\n",
    "            newFile.write(ub)\n",
    "            newFile.write(assertLb)\n",
    "            newFile.write(assertUb)\n",
    "    except:\n",
    "        print(f'''Check {filename} for completeness - data missing?''')\n",
    "\n",
    "    newFile.close()"
   ]
  },
  {
   "cell_type": "markdown",
   "metadata": {},
   "source": [
    "#### $Mz_1$"
   ]
  },
  {
   "cell_type": "code",
   "execution_count": null,
   "metadata": {},
   "outputs": [],
   "source": [
    "import os\n",
    "\n",
    "smt2_files = []\n",
    "smt2_path = '../data/smt2/optimathsat/Mz1-noAbs'\n",
    "\n",
    "for filename in os.listdir(smt2_path):\n",
    "    if filename.endswith(\".smt2\"):\n",
    "        smt2_files.append(filename)\n",
    "len(smt2_files)"
   ]
  },
  {
   "cell_type": "code",
   "execution_count": null,
   "metadata": {},
   "outputs": [],
   "source": [
    "fix_count = 0\n",
    "for smt2 in smt2_files:\n",
    "    fix_count += 1\n",
    "    print(f'''\\r{fix_count}/{len(smt2_files)} Fixing file {smt2}''', end='')\n",
    "    adjust_smt2_file(smt2_path=smt2_path, file=smt2, write_path=f'''{smt2_path}''')\n",
    "    sys.stdout.flush()"
   ]
  },
  {
   "cell_type": "markdown",
   "metadata": {},
   "source": [
    "#### $Mz_2$"
   ]
  },
  {
   "cell_type": "code",
   "execution_count": null,
   "metadata": {},
   "outputs": [],
   "source": [
    "import os\n",
    "\n",
    "smt2_files = []\n",
    "smt2_path = '../data/smt2/optimathsat/Mz2-noAbs'\n",
    "\n",
    "for filename in os.listdir(smt2_path):\n",
    "    if filename.endswith(\".smt2\"):\n",
    "        smt2_files.append(filename)\n",
    "len(smt2_files)"
   ]
  },
  {
   "cell_type": "code",
   "execution_count": null,
   "metadata": {},
   "outputs": [],
   "source": [
    "fix_count = 0\n",
    "for smt2 in smt2_files:\n",
    "    fix_count += 1\n",
    "    print(f'''\\r{fix_count}/{len(smt2_files)} Fixing file {smt2}''', end='')\n",
    "    adjust_smt2_file(smt2_path=smt2_path, file=smt2, write_path=f'''{smt2_path}''')\n",
    "    sys.stdout.flush()"
   ]
  },
  {
   "cell_type": "markdown",
   "metadata": {},
   "source": [
    "## Test Generated `smt2` Files Using `OptiMathSAT`\n",
    "\n",
    "This shoud generate the `smt2` file without any error. If this was the case then `OptiMathSAT` can be called on a file by running\n",
    "\n",
    "\n",
    "```zsh\n",
    "optimathsat output/A004-dzn-smt2-fzn.smt2 \n",
    "```\n",
    "\n",
    "yielding something similar to\n",
    "\n",
    "```zsh                                                     \n",
    "sat\n",
    "\n",
    "(objectives\n",
    " (obj 88)\n",
    ")\n",
    "(error \"model generation not enabled\")\n",
    "unsupported\n",
    "```"
   ]
  },
  {
   "cell_type": "code",
   "execution_count": null,
   "metadata": {},
   "outputs": [],
   "source": [
    "result = subprocess.check_output(\n",
    "    '../../optimathsat/bin/optimathsat ../data/smt2/optimathsat/Mz1-noAbs/A004-dzn-fzn.smt2',\n",
    "    shell=True, universal_newlines=True)\n",
    "print(result)"
   ]
  }
 ],
 "metadata": {
  "kernelspec": {
   "display_name": "Python 3",
   "language": "python",
   "name": "python3"
  },
  "language_info": {
   "codemirror_mode": {
    "name": "ipython",
    "version": 3
   },
   "file_extension": ".py",
   "mimetype": "text/x-python",
   "name": "python",
   "nbconvert_exporter": "python",
   "pygments_lexer": "ipython3",
   "version": "3.7.6"
  }
 },
 "nbformat": 4,
 "nbformat_minor": 4
}
