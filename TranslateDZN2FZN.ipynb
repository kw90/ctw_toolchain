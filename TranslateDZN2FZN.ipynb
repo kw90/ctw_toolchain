{
 "cells": [
  {
   "cell_type": "markdown",
   "metadata": {},
   "source": [
    "# Translate `dzn` to `fzn`"
   ]
  },
  {
   "cell_type": "markdown",
   "metadata": {},
   "source": [
    "### Check Versions of Tools"
   ]
  },
  {
   "cell_type": "code",
   "execution_count": 1,
   "metadata": {},
   "outputs": [
    {
     "data": {
      "text/plain": [
       "'MiniZinc to FlatZinc converter, version 2.3.2\\nCopyright (C) 2014-2020 Monash University, NICTA, Data61\\n'"
      ]
     },
     "execution_count": 1,
     "metadata": {},
     "output_type": "execute_result"
    }
   ],
   "source": [
    "import subprocess\n",
    "\n",
    "output = subprocess.check_output(\"../minizinc/build/minizinc --version\", shell=True, universal_newlines=True)\n",
    "output"
   ]
  },
  {
   "cell_type": "markdown",
   "metadata": {},
   "source": [
    "## Transform `dzn` to `fzn` Using `Mz1-noAbs.mzn`"
   ]
  },
  {
   "cell_type": "markdown",
   "metadata": {},
   "source": [
    "Then transform the desired `.dzn` file to `.fzn` using the `Mz1-noAbs.mzn` MiniZinc model."
   ]
  },
  {
   "cell_type": "code",
   "execution_count": 2,
   "metadata": {
    "scrolled": true
   },
   "outputs": [
    {
     "data": {
      "text/plain": [
       "278"
      ]
     },
     "execution_count": 2,
     "metadata": {},
     "output_type": "execute_result"
    }
   ],
   "source": [
    "import os\n",
    "\n",
    "dzn_files = []\n",
    "dzn_path = 'dzn-files/'\n",
    "\n",
    "for filename in os.listdir(dzn_path):\n",
    "    if filename.endswith(\".dzn\"):\n",
    "        dzn_files.append(filename)\n",
    "len(dzn_files)"
   ]
  },
  {
   "cell_type": "code",
   "execution_count": 20,
   "metadata": {
    "scrolled": false
   },
   "outputs": [
    {
     "name": "stdout",
     "output_type": "stream",
     "text": [
      "(278/278) Translating dzn-files/R066.dzn to fzn-files/or-tools/Mz1-noAbs/R066-dzn.fzn"
     ]
    }
   ],
   "source": [
    "import sys\n",
    "\n",
    "fzn_path = 'fzn-files/or-tools/Mz1-noAbs/'\n",
    "minizinc_base_cmd = '../minizinc/build/minizinc \\\n",
    "    -Werror \\\n",
    "    --compile --solver org.minizinc.mzn-fzn \\\n",
    "    mzn-model/Mz1-noAbs.mzn '\n",
    "translate_count = 0\n",
    "for dzn in dzn_files:\n",
    "    translate_count += 1\n",
    "    minizinc_transform_cmd = minizinc_base_cmd + dzn_path + dzn \\\n",
    "        + ' --output-to-file ' + fzn_path + dzn.replace('.', '-') + '.fzn'\n",
    "    print(f'''\\r({translate_count}/{len(dzn_files)}) Translating {dzn_path + dzn} to {fzn_path + dzn.replace('.', '-')}.fzn''', end='')\n",
    "    sys.stdout.flush()\n",
    "    subprocess.check_output(minizinc_transform_cmd, shell=True, \n",
    "                                     universal_newlines=True)"
   ]
  },
  {
   "cell_type": "markdown",
   "metadata": {},
   "source": [
    "## Transform `dzn` to `fzn` Using `Mz2-noAbs.mzn`"
   ]
  },
  {
   "cell_type": "markdown",
   "metadata": {},
   "source": [
    "Then transform the desired `.dzn` file to `.fzn` using the `Mz2-noAbs.mzn` MiniZinc model."
   ]
  },
  {
   "cell_type": "code",
   "execution_count": 15,
   "metadata": {
    "scrolled": true
   },
   "outputs": [
    {
     "data": {
      "text/plain": [
       "278"
      ]
     },
     "execution_count": 15,
     "metadata": {},
     "output_type": "execute_result"
    }
   ],
   "source": [
    "import os\n",
    "\n",
    "dzn_files = []\n",
    "dzn_path = 'dzn-files/'\n",
    "\n",
    "for filename in os.listdir(dzn_path):\n",
    "    if filename.endswith(\".dzn\"):\n",
    "        dzn_files.append(filename)\n",
    "len(dzn_files)"
   ]
  },
  {
   "cell_type": "code",
   "execution_count": 16,
   "metadata": {},
   "outputs": [
    {
     "name": "stdout",
     "output_type": "stream",
     "text": [
      "(278/278) Translating dzn-files/R066.dzn to fzn-files/or-tools/Mz2-noAbs/R066-dzn.fzn"
     ]
    }
   ],
   "source": [
    "import sys\n",
    "\n",
    "fzn_path = 'fzn-files/or-tools/Mz2-noAbs/'\n",
    "minizinc_base_cmd = '../minizinc/build/minizinc \\\n",
    "    -Werror \\\n",
    "    --compile --solver org.minizinc.mzn-fzn \\\n",
    "    mzn-model/Mz2-noAbs.mzn '\n",
    "translate_count = 0\n",
    "for dzn in dzn_files:\n",
    "    translate_count += 1\n",
    "    minizinc_transform_cmd = minizinc_base_cmd + dzn_path + dzn \\\n",
    "        + ' --output-to-file ' + fzn_path + dzn.replace('.', '-') + '.fzn'\n",
    "    print(f'''\\r({translate_count}/{len(dzn_files)}) Translating {dzn_path + dzn} to {fzn_path + dzn.replace('.', '-')}.fzn''', end='')\n",
    "    sys.stdout.flush()\n",
    "    subprocess.check_output(minizinc_transform_cmd, shell=True, \n",
    "                                     universal_newlines=True)"
   ]
  },
  {
   "cell_type": "markdown",
   "metadata": {},
   "source": [
    "## Test Generated `smt2` Files Using `OR-Tools`"
   ]
  },
  {
   "cell_type": "markdown",
   "metadata": {},
   "source": [
    "TBD."
   ]
  }
 ],
 "metadata": {
  "kernelspec": {
   "display_name": "Python 3",
   "language": "python",
   "name": "python3"
  },
  "language_info": {
   "codemirror_mode": {
    "name": "ipython",
    "version": 3
   },
   "file_extension": ".py",
   "mimetype": "text/x-python",
   "name": "python",
   "nbconvert_exporter": "python",
   "pygments_lexer": "ipython3",
   "version": "3.7.6"
  }
 },
 "nbformat": 4,
 "nbformat_minor": 4
}
