{
 "cells": [
  {
   "cell_type": "markdown",
   "metadata": {},
   "source": [
    "# Translate `dzn` to `fzn`"
   ]
  },
  {
   "cell_type": "markdown",
   "metadata": {},
   "source": [
    "### Check Versions of Tools"
   ]
  },
  {
   "cell_type": "code",
   "execution_count": 1,
   "metadata": {},
   "outputs": [
    {
     "data": {
      "text/plain": [
       "'MiniZinc to FlatZinc converter, version 2.3.2\\nCopyright (C) 2014-2020 Monash University, NICTA, Data61\\n'"
      ]
     },
     "execution_count": 1,
     "metadata": {},
     "output_type": "execute_result"
    }
   ],
   "source": [
    "import subprocess\n",
    "\n",
    "output = subprocess.check_output(\"../minizinc/build/minizinc --version\", shell=True, universal_newlines=True)\n",
    "output"
   ]
  },
  {
   "cell_type": "code",
   "execution_count": 7,
   "metadata": {},
   "outputs": [
    {
     "data": {
      "text/plain": [
       "'fzn-or-tools\\nDebug build (NDEBUG not #defined)\\n'"
      ]
     },
     "execution_count": 7,
     "metadata": {},
     "output_type": "execute_result"
    }
   ],
   "source": [
    "import subprocess\n",
    "\n",
    "output = subprocess.check_output(\"../or-tools/bin/fzn-or-tools --version\", shell=True, universal_newlines=True)\n",
    "output"
   ]
  },
  {
   "cell_type": "markdown",
   "metadata": {},
   "source": [
    "## Transform `dzn` to `fzn` Using `Mz1-noAbs.mzn`"
   ]
  },
  {
   "cell_type": "markdown",
   "metadata": {},
   "source": [
    "Then transform the desired `.dzn` file to `.fzn` using the `Mz1-noAbs.mzn` MiniZinc model."
   ]
  },
  {
   "cell_type": "code",
   "execution_count": 3,
   "metadata": {
    "scrolled": true
   },
   "outputs": [
    {
     "data": {
      "text/plain": [
       "278"
      ]
     },
     "execution_count": 3,
     "metadata": {},
     "output_type": "execute_result"
    }
   ],
   "source": [
    "import os\n",
    "\n",
    "dzn_files = []\n",
    "dzn_path = 'dzn-files/'\n",
    "\n",
    "for filename in os.listdir(dzn_path):\n",
    "    if filename.endswith(\".dzn\"):\n",
    "        dzn_files.append(filename)\n",
    "len(dzn_files)"
   ]
  },
  {
   "cell_type": "code",
   "execution_count": 4,
   "metadata": {
    "scrolled": false
   },
   "outputs": [
    {
     "name": "stdout",
     "output_type": "stream",
     "text": [
      "(278/278) Translating dzn-files/R066.dzn to fzn-files/or-tools/Mz1-noAbs/R066-dzn.fzn"
     ]
    }
   ],
   "source": [
    "import sys\n",
    "\n",
    "fzn_path = 'fzn-files/or-tools/Mz1-noAbs/'\n",
    "minizinc_base_cmd = '../minizinc/build/minizinc \\\n",
    "    -Werror \\\n",
    "    --compile --solver org.minizinc.mzn-fzn \\\n",
    "    mzn-model/Mz1-noAbs.mzn '\n",
    "translate_count = 0\n",
    "for dzn in dzn_files:\n",
    "    translate_count += 1\n",
    "    minizinc_transform_cmd = minizinc_base_cmd + dzn_path + dzn \\\n",
    "        + ' --output-to-file ' + fzn_path + dzn.replace('.', '-') + '.fzn'\n",
    "    print(f'''\\r({translate_count}/{len(dzn_files)}) Translating {dzn_path + dzn} to {fzn_path + dzn.replace('.', '-')}.fzn''', end='')\n",
    "    sys.stdout.flush()\n",
    "    subprocess.check_output(minizinc_transform_cmd, shell=True, \n",
    "                                     universal_newlines=True)"
   ]
  },
  {
   "cell_type": "markdown",
   "metadata": {},
   "source": [
    "## Transform `dzn` to `fzn` Using `Mz2-noAbs.mzn`"
   ]
  },
  {
   "cell_type": "markdown",
   "metadata": {},
   "source": [
    "Then transform the desired `.dzn` file to `.fzn` using the `Mz2-noAbs.mzn` MiniZinc model."
   ]
  },
  {
   "cell_type": "code",
   "execution_count": 5,
   "metadata": {
    "scrolled": true
   },
   "outputs": [
    {
     "data": {
      "text/plain": [
       "278"
      ]
     },
     "execution_count": 5,
     "metadata": {},
     "output_type": "execute_result"
    }
   ],
   "source": [
    "import os\n",
    "\n",
    "dzn_files = []\n",
    "dzn_path = 'dzn-files/'\n",
    "\n",
    "for filename in os.listdir(dzn_path):\n",
    "    if filename.endswith(\".dzn\"):\n",
    "        dzn_files.append(filename)\n",
    "len(dzn_files)"
   ]
  },
  {
   "cell_type": "code",
   "execution_count": 6,
   "metadata": {},
   "outputs": [
    {
     "name": "stdout",
     "output_type": "stream",
     "text": [
      "(278/278) Translating dzn-files/R066.dzn to fzn-files/or-tools/Mz2-noAbs/R066-dzn.fzn"
     ]
    }
   ],
   "source": [
    "import sys\n",
    "\n",
    "fzn_path = 'fzn-files/or-tools/Mz2-noAbs/'\n",
    "minizinc_base_cmd = '../minizinc/build/minizinc \\\n",
    "    -Werror \\\n",
    "    --compile --solver org.minizinc.mzn-fzn \\\n",
    "    mzn-model/Mz2-noAbs.mzn '\n",
    "translate_count = 0\n",
    "for dzn in dzn_files:\n",
    "    translate_count += 1\n",
    "    minizinc_transform_cmd = minizinc_base_cmd + dzn_path + dzn \\\n",
    "        + ' --output-to-file ' + fzn_path + dzn.replace('.', '-') + '.fzn'\n",
    "    print(f'''\\r({translate_count}/{len(dzn_files)}) Translating {dzn_path + dzn} to {fzn_path + dzn.replace('.', '-')}.fzn''', end='')\n",
    "    sys.stdout.flush()\n",
    "    subprocess.check_output(minizinc_transform_cmd, shell=True, \n",
    "                                     universal_newlines=True)"
   ]
  },
  {
   "cell_type": "markdown",
   "metadata": {},
   "source": [
    "## Test Generated `fzn` Files Using `OR-Tools`"
   ]
  },
  {
   "cell_type": "code",
   "execution_count": 20,
   "metadata": {},
   "outputs": [
    {
     "name": "stdout",
     "output_type": "stream",
     "text": [
      "Output Mz1: \n",
      "\n",
      "S = 1;\n",
      "M = 1;\n",
      "obj = 88;\n",
      "pfc = array1d(1..4, [2, 4, 3, 1]);\n",
      "\n",
      "----------\n",
      "==========\n",
      "\n",
      "Output Mz2: \n",
      "\n",
      "S = 1;\n",
      "M = 1;\n",
      "N = 0;\n",
      "obj = 88;\n",
      "pfc = array1d(1..4, [2, 4, 3, 1]);\n",
      "\n",
      "----------\n",
      "==========\n",
      "\n"
     ]
    }
   ],
   "source": [
    "import subprocess\n",
    "\n",
    "output_Mz1 = subprocess.check_output(\"../or-tools/bin/fzn-or-tools fzn-files/or-tools/Mz1-noAbs/A004-dzn.fzn\", shell=True, universal_newlines=True)\n",
    "output_Mz2 = subprocess.check_output(\"../or-tools/bin/fzn-or-tools fzn-files/or-tools/Mz2-noAbs/A004-dzn.fzn\", shell=True, universal_newlines=True)\n",
    "print(f'''Output Mz1: \\n\\n{output_Mz1}''')\n",
    "print(f'''Output Mz2: \\n\\n{output_Mz2}''')"
   ]
  },
  {
   "cell_type": "code",
   "execution_count": 22,
   "metadata": {},
   "outputs": [
    {
     "name": "stdout",
     "output_type": "stream",
     "text": [
      "Output Mz1: \n",
      "\n",
      "S = 0;\n",
      "obj = 0;\n",
      "pfc = array1d(1..2, [2, 1]);\n",
      "\n",
      "----------\n",
      "==========\n",
      "\n",
      "Output Mz2: \n",
      "\n",
      "S = 0;\n",
      "obj = 0;\n",
      "pfc = array1d(1..2, [2, 1]);\n",
      "\n",
      "----------\n",
      "==========\n",
      "\n"
     ]
    }
   ],
   "source": [
    "output_Mz1 = subprocess.check_output(\"../or-tools/bin/fzn-or-tools fzn-files/or-tools/Mz1-noAbs/A012-dzn.fzn\", shell=True, universal_newlines=True)\n",
    "output_Mz2 = subprocess.check_output(\"../or-tools/bin/fzn-or-tools fzn-files/or-tools/Mz2-noAbs/A012-dzn.fzn\", shell=True, universal_newlines=True)\n",
    "print(f'''Output Mz1: \\n\\n{output_Mz1}''')\n",
    "print(f'''Output Mz2: \\n\\n{output_Mz2}''')"
   ]
  },
  {
   "cell_type": "code",
   "execution_count": 24,
   "metadata": {},
   "outputs": [
    {
     "name": "stdout",
     "output_type": "stream",
     "text": [
      "Output Mz1: \n",
      "\n",
      "S = 0;\n",
      "M = 0;\n",
      "obj = 1;\n",
      "pfc = array1d(1..18, [7, 3, 17, 9, 5, 1, 15, 13, 11, 8, 4, 18, 10, 6, 2, 16, 14, 12]);\n",
      "\n",
      "----------\n",
      "==========\n",
      "\n",
      "Output Mz2: \n",
      "\n",
      "S = 0;\n",
      "M = 0;\n",
      "N = 1;\n",
      "obj = 1;\n",
      "pfc = array1d(1..18, [7, 3, 17, 9, 5, 1, 15, 13, 11, 8, 4, 18, 10, 6, 2, 16, 14, 12]);\n",
      "\n",
      "----------\n",
      "==========\n",
      "\n"
     ]
    }
   ],
   "source": [
    "output_Mz1 = subprocess.check_output(\"../or-tools/bin/fzn-or-tools fzn-files/or-tools/Mz1-noAbs/R008-dzn.fzn\", shell=True, universal_newlines=True)\n",
    "output_Mz2 = subprocess.check_output(\"../or-tools/bin/fzn-or-tools fzn-files/or-tools/Mz2-noAbs/R008-dzn.fzn\", shell=True, universal_newlines=True)\n",
    "print(f'''Output Mz1: \\n\\n{output_Mz1}''')\n",
    "print(f'''Output Mz2: \\n\\n{output_Mz2}''')"
   ]
  }
 ],
 "metadata": {
  "kernelspec": {
   "display_name": "Python 3",
   "language": "python",
   "name": "python3"
  },
  "language_info": {
   "codemirror_mode": {
    "name": "ipython",
    "version": 3
   },
   "file_extension": ".py",
   "mimetype": "text/x-python",
   "name": "python",
   "nbconvert_exporter": "python",
   "pygments_lexer": "ipython3",
   "version": "3.7.6"
  }
 },
 "nbformat": 4,
 "nbformat_minor": 4
}
