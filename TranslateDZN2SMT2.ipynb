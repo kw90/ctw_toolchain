{
 "cells": [
  {
   "cell_type": "markdown",
   "metadata": {},
   "source": [
    "# Translate `dzn` to `smt2`"
   ]
  },
  {
   "cell_type": "markdown",
   "metadata": {},
   "source": [
    "### Check Versions of Tools"
   ]
  },
  {
   "cell_type": "code",
   "execution_count": 1,
   "metadata": {},
   "outputs": [
    {
     "data": {
      "text/plain": [
       "'MathSAT5 version 1.6.4 (d39a648d6bb7) (Feb 25 2020 14:02:07, gmp 6.1.2, gcc 9.2.1, 64-bit)\\n'"
      ]
     },
     "execution_count": 1,
     "metadata": {},
     "output_type": "execute_result"
    }
   ],
   "source": [
    "import subprocess\n",
    "\n",
    "output = subprocess.check_output(\"../optimathsat/bin/optimathsat -version\", shell=True, universal_newlines=True)\n",
    "output"
   ]
  },
  {
   "cell_type": "code",
   "execution_count": 2,
   "metadata": {},
   "outputs": [
    {
     "data": {
      "text/plain": [
       "'MiniZinc to FlatZinc converter, version 2.4.3, build 122680178\\nCopyright (C) 2014-2020 Monash University, NICTA, Data61\\n'"
      ]
     },
     "execution_count": 2,
     "metadata": {},
     "output_type": "execute_result"
    }
   ],
   "source": [
    "output = subprocess.check_output(\"../minizinc/bin/minizinc --version\", shell=True, universal_newlines=True)\n",
    "output"
   ]
  },
  {
   "cell_type": "code",
   "execution_count": 3,
   "metadata": {},
   "outputs": [
    {
     "data": {
      "text/plain": [
       "'Z3 version 4.8.8 - 64 bit\\n'"
      ]
     },
     "execution_count": 3,
     "metadata": {},
     "output_type": "execute_result"
    }
   ],
   "source": [
    "output = subprocess.check_output(\"../z3/build/z3 --version\", shell=True, universal_newlines=True)\n",
    "output"
   ]
  },
  {
   "cell_type": "markdown",
   "metadata": {},
   "source": [
    "First generate the FlatZinc files using the MiniZinc tool. Make sure that a `smt2` folder is located inside `./minizinc/share/minizinc/`. Else, to enable OptiMathSAT's support for global constraints download the [smt2.tar.gz](http://optimathsat.disi.unitn.it/data/smt2.tar.gz) package and unpack it there using\n",
    "\n",
    "```zsh\n",
    "tar xf smt2.tar.gz $MINIZINC_PATH/share/minizinc/\n",
    "```\n",
    "\n",
    "If next output shows a list of `.mzn` files, then this dependency is satified."
   ]
  },
  {
   "cell_type": "code",
   "execution_count": 4,
   "metadata": {},
   "outputs": [
    {
     "name": "stdout",
     "output_type": "stream",
     "text": [
      "total 292\n",
      "drwxr-xr-x  2 kw kw 4096 Jan 15  2018 .\n",
      "drwxr-xr-x 15 kw kw 4096 Apr  6 14:16 ..\n",
      "-rw-r--r--  1 kw kw  328 Nov 13  2017 alldifferent_except_0.mzn\n",
      "-rw-r--r--  1 kw kw  382 Nov 13  2017 all_different_int.mzn\n",
      "-rw-r--r--  1 kw kw  396 Nov 13  2017 all_different_set.mzn\n",
      "-rw-r--r--  1 kw kw  270 Nov 13  2017 all_disjoint.mzn\n",
      "-rw-r--r--  1 kw kw  150 Nov 14  2017 all_equal_int.mzn\n",
      "-rw-r--r--  1 kw kw  164 Nov 13  2017 all_equal_set.mzn\n",
      "-rw-r--r--  1 kw kw  351 Nov 13  2017 among.mzn\n",
      "-rw-r--r--  1 kw kw  305 Nov  8  2017 arg_max_float.mzn\n",
      "-rw-r--r--  1 kw kw  291 Nov  8  2017 arg_max_int.mzn\n",
      "-rw-r--r--  1 kw kw  306 Nov  8  2017 arg_min_float.mzn\n",
      "-rw-r--r--  1 kw kw  291 Nov  8  2017 arg_min_int.mzn\n",
      "-rw-r--r--  1 kw kw  480 Nov 13  2017 at_least_int.mzn\n",
      "-rw-r--r--  1 kw kw  506 Nov 14  2017 at_least_set.mzn\n",
      "-rw-r--r--  1 kw kw  340 Nov 13  2017 at_most1.mzn\n",
      "-rw-r--r--  1 kw kw  474 Nov 13  2017 at_most_int.mzn\n",
      "-rw-r--r--  1 kw kw  502 Nov 13  2017 at_most_set.mzn\n",
      "-rw-r--r--  1 kw kw 1162 Nov  8  2017 bin_packing_capa.mzn\n",
      "-rw-r--r--  1 kw kw 1044 Nov  8  2017 bin_packing_load.mzn\n",
      "-rw-r--r--  1 kw kw  883 Nov 14  2017 bin_packing.mzn\n",
      "-rw-r--r--  1 kw kw  765 Nov 14  2017 comparison_rel_array.mzn\n",
      "-rw-r--r--  1 kw kw  350 Nov 13  2017 count_eq.mzn\n",
      "-rw-r--r--  1 kw kw  382 Nov 13  2017 count_geq.mzn\n",
      "-rw-r--r--  1 kw kw  375 Nov 13  2017 count_gt.mzn\n",
      "-rw-r--r--  1 kw kw  379 Nov 13  2017 count_leq.mzn\n",
      "-rw-r--r--  1 kw kw  371 Nov 13  2017 count_lt.mzn\n",
      "-rw-r--r--  1 kw kw  371 Nov 13  2017 count_neq.mzn\n",
      "-rw-r--r--  1 kw kw  398 Nov 13  2017 decreasing_bool.mzn\n",
      "-rw-r--r--  1 kw kw  404 Nov 13  2017 decreasing_float.mzn\n",
      "-rw-r--r--  1 kw kw  393 Nov 13  2017 decreasing_int.mzn\n",
      "-rw-r--r--  1 kw kw  408 Nov 14  2017 decreasing_set.mzn\n",
      "-rw-r--r--  1 kw kw 1589 Nov 13  2017 diffn_k.mzn\n",
      "-rw-r--r--  1 kw kw  853 Nov 14  2017 diffn.mzn\n",
      "-rw-r--r--  1 kw kw 1731 Nov 13  2017 diffn_nonstrict_k.mzn\n",
      "-rw-r--r--  1 kw kw  919 Nov 14  2017 diffn_nonstrict.mzn\n",
      "-rw-r--r--  1 kw kw  276 Nov 14  2017 disjoint.mzn\n",
      "-rw-r--r--  1 kw kw  836 Nov  8  2017 disjunctive.mzn\n",
      "-rw-r--r--  1 kw kw  748 Nov  8  2017 disjunctive_strict.mzn\n",
      "-rw-r--r--  1 kw kw  696 Nov 14  2017 distribute.mzn\n",
      "-rw-r--r--  1 kw kw  474 Nov 13  2017 exactly_int.mzn\n",
      "-rw-r--r--  1 kw kw  502 Nov 13  2017 exactly_set.mzn\n",
      "-rw-r--r--  1 kw kw  851 Nov 14  2017 global_cardinality_closed.mzn\n",
      "-rw-r--r--  1 kw kw  396 Nov  8  2017 global_cardinality_fn.mzn\n",
      "-rw-r--r--  1 kw kw  914 Nov 13  2017 global_cardinality_low_up_closed.mzn\n",
      "-rw-r--r--  1 kw kw  795 Nov 13  2017 global_cardinality_low_up.mzn\n",
      "-rw-r--r--  1 kw kw  717 Nov 14  2017 global_cardinality.mzn\n",
      "-rw-r--r--  1 kw kw  398 Nov 13  2017 increasing_bool.mzn\n",
      "-rw-r--r--  1 kw kw  403 Nov 13  2017 increasing_float.mzn\n",
      "-rw-r--r--  1 kw kw  394 Nov 13  2017 increasing_int.mzn\n",
      "-rw-r--r--  1 kw kw  408 Nov 13  2017 increasing_set.mzn\n",
      "-rw-r--r--  1 kw kw  728 Nov 14  2017 int_set_channel.mzn\n",
      "-rw-r--r--  1 kw kw  582 Nov  8  2017 inverse.mzn\n",
      "-rw-r--r--  1 kw kw  827 Nov  8  2017 inverse_set.mzn\n",
      "-rw-r--r--  1 kw kw  708 Nov 14  2017 link_set_to_booleans.mzn\n",
      "-rw-r--r--  1 kw kw  375 Nov 11  2017 maximum_float.mzn\n",
      "-rw-r--r--  1 kw kw  367 Nov 11  2017 maximum_int.mzn\n",
      "-rw-r--r--  1 kw kw  422 Nov 13  2017 member_bool.mzn\n",
      "-rw-r--r--  1 kw kw  431 Nov 13  2017 member_float.mzn\n",
      "-rw-r--r--  1 kw kw  414 Nov 13  2017 member_int.mzn\n",
      "-rw-r--r--  1 kw kw  442 Nov 13  2017 member_set.mzn\n",
      "-rw-r--r--  1 kw kw  372 Nov 11  2017 minimum_float.mzn\n",
      "-rw-r--r--  1 kw kw  367 Nov 11  2017 minimum_int.mzn\n",
      "-rw-r--r--  1 kw kw  283 Nov 13  2017 nvalue.mzn\n",
      "-rw-r--r--  1 kw kw  712 Nov 14  2017 range.mzn\n",
      "-rw-r--r--  1 kw kw 1751 Nov 13  2017 redefinitions-2.0.2.mzn\n",
      "-rw-r--r--  1 kw kw 1434 Nov 13  2017 redefinitions-2.0.mzn\n",
      "-rw-r--r--  1 kw kw  678 Nov 15  2017 redefinitions-2.1.mzn\n",
      "-rw-r--r--  1 kw kw  571 Nov 14  2017 roots.mzn\n",
      "-rw-r--r--  1 kw kw  764 Nov  8  2017 sum_pred.mzn\n",
      "-rw-r--r--  1 kw kw  445 Nov 15  2017 symmetric_all_different.mzn\n",
      "-rw-r--r--  1 kw kw  280 Nov 15  2017 value_precede_int.mzn\n",
      "-rw-r--r--  1 kw kw  294 Nov 15  2017 value_precede_set.mzn\n",
      "\n"
     ]
    }
   ],
   "source": [
    "output = subprocess.check_output(\"ls -la ../minizinc/share/minizinc/smt2/\", shell=True, universal_newlines=True)\n",
    "print(output)"
   ]
  },
  {
   "cell_type": "markdown",
   "metadata": {},
   "source": [
    "## Transform `dzn` to `fzn` Using Model `mzn`"
   ]
  },
  {
   "cell_type": "markdown",
   "metadata": {},
   "source": [
    "Then transform the desired `.dzn` file to `.fzn` using the `Mz.mzn` MiniZinc model."
   ]
  },
  {
   "cell_type": "code",
   "execution_count": 5,
   "metadata": {
    "scrolled": true
   },
   "outputs": [
    {
     "data": {
      "text/plain": [
       "278"
      ]
     },
     "execution_count": 5,
     "metadata": {},
     "output_type": "execute_result"
    }
   ],
   "source": [
    "import os\n",
    "\n",
    "dzn_files = []\n",
    "dzn_path = 'dzn-files/'\n",
    "\n",
    "for filename in os.listdir(dzn_path):\n",
    "    if filename.endswith(\".dzn\"):\n",
    "        dzn_files.append(filename)\n",
    "len(dzn_files)"
   ]
  },
  {
   "cell_type": "code",
   "execution_count": 6,
   "metadata": {
    "scrolled": true
   },
   "outputs": [
    {
     "name": "stdout",
     "output_type": "stream",
     "text": [
      "Translating dzn-files/R151.dzn to fzn-files/R151-dzn.fzn\n",
      "Translating dzn-files/A073.dzn to fzn-files/A073-dzn.fzn\n",
      "Translating dzn-files/R037.dzn to fzn-files/R037-dzn.fzn\n",
      "Translating dzn-files/A035.dzn to fzn-files/A035-dzn.fzn\n",
      "Translating dzn-files/R205.dzn to fzn-files/R205-dzn.fzn\n",
      "Translating dzn-files/A004.dzn to fzn-files/A004-dzn.fzn\n",
      "Translating dzn-files/A024.dzn to fzn-files/A024-dzn.fzn\n",
      "Translating dzn-files/R166.dzn to fzn-files/R166-dzn.fzn\n",
      "Translating dzn-files/A038.dzn to fzn-files/A038-dzn.fzn\n",
      "Translating dzn-files/R194.dzn to fzn-files/R194-dzn.fzn\n",
      "Translating dzn-files/A032.dzn to fzn-files/A032-dzn.fzn\n",
      "Translating dzn-files/R111.dzn to fzn-files/R111-dzn.fzn\n",
      "Translating dzn-files/R158.dzn to fzn-files/R158-dzn.fzn\n",
      "Translating dzn-files/R147.dzn to fzn-files/R147-dzn.fzn\n",
      "Translating dzn-files/R145.dzn to fzn-files/R145-dzn.fzn\n",
      "Translating dzn-files/R080.dzn to fzn-files/R080-dzn.fzn\n",
      "Translating dzn-files/R038.dzn to fzn-files/R038-dzn.fzn\n",
      "Translating dzn-files/R108.dzn to fzn-files/R108-dzn.fzn\n",
      "Translating dzn-files/R075.dzn to fzn-files/R075-dzn.fzn\n",
      "Translating dzn-files/R155.dzn to fzn-files/R155-dzn.fzn\n",
      "Translating dzn-files/R185.dzn to fzn-files/R185-dzn.fzn\n",
      "Translating dzn-files/R023.dzn to fzn-files/R023-dzn.fzn\n",
      "Translating dzn-files/R072.dzn to fzn-files/R072-dzn.fzn\n",
      "Translating dzn-files/R076.dzn to fzn-files/R076-dzn.fzn\n",
      "Translating dzn-files/R057.dzn to fzn-files/R057-dzn.fzn\n",
      "Translating dzn-files/R005.dzn to fzn-files/R005-dzn.fzn\n",
      "Translating dzn-files/R089.dzn to fzn-files/R089-dzn.fzn\n",
      "Translating dzn-files/R013.dzn to fzn-files/R013-dzn.fzn\n",
      "Translating dzn-files/A037.dzn to fzn-files/A037-dzn.fzn\n",
      "Translating dzn-files/R033.dzn to fzn-files/R033-dzn.fzn\n",
      "Translating dzn-files/R165.dzn to fzn-files/R165-dzn.fzn\n",
      "Translating dzn-files/R172.dzn to fzn-files/R172-dzn.fzn\n",
      "Translating dzn-files/R184.dzn to fzn-files/R184-dzn.fzn\n",
      "Translating dzn-files/R040.dzn to fzn-files/R040-dzn.fzn\n",
      "Translating dzn-files/R061.dzn to fzn-files/R061-dzn.fzn\n",
      "Translating dzn-files/A001.dzn to fzn-files/A001-dzn.fzn\n",
      "Translating dzn-files/A051.dzn to fzn-files/A051-dzn.fzn\n",
      "Translating dzn-files/R128.dzn to fzn-files/R128-dzn.fzn\n",
      "Translating dzn-files/A064.dzn to fzn-files/A064-dzn.fzn\n",
      "Translating dzn-files/R169.dzn to fzn-files/R169-dzn.fzn\n",
      "Translating dzn-files/A067.dzn to fzn-files/A067-dzn.fzn\n",
      "Translating dzn-files/A026.dzn to fzn-files/A026-dzn.fzn\n",
      "Translating dzn-files/R103.dzn to fzn-files/R103-dzn.fzn\n",
      "Translating dzn-files/A052.dzn to fzn-files/A052-dzn.fzn\n",
      "Translating dzn-files/A010.dzn to fzn-files/A010-dzn.fzn\n",
      "Translating dzn-files/R150.dzn to fzn-files/R150-dzn.fzn\n",
      "Translating dzn-files/A055.dzn to fzn-files/A055-dzn.fzn\n",
      "Translating dzn-files/R154.dzn to fzn-files/R154-dzn.fzn\n",
      "Translating dzn-files/R030.dzn to fzn-files/R030-dzn.fzn\n",
      "Translating dzn-files/R129.dzn to fzn-files/R129-dzn.fzn\n",
      "Translating dzn-files/R149.dzn to fzn-files/R149-dzn.fzn\n",
      "Translating dzn-files/R116.dzn to fzn-files/R116-dzn.fzn\n",
      "Translating dzn-files/R053.dzn to fzn-files/R053-dzn.fzn\n",
      "Translating dzn-files/R137.dzn to fzn-files/R137-dzn.fzn\n",
      "Translating dzn-files/R068.dzn to fzn-files/R068-dzn.fzn\n",
      "Translating dzn-files/A056.dzn to fzn-files/A056-dzn.fzn\n",
      "Translating dzn-files/R093.dzn to fzn-files/R093-dzn.fzn\n",
      "Translating dzn-files/R010.dzn to fzn-files/R010-dzn.fzn\n",
      "Translating dzn-files/R146.dzn to fzn-files/R146-dzn.fzn\n",
      "Translating dzn-files/R132.dzn to fzn-files/R132-dzn.fzn\n",
      "Translating dzn-files/R044.dzn to fzn-files/R044-dzn.fzn\n",
      "Translating dzn-files/R071.dzn to fzn-files/R071-dzn.fzn\n",
      "Translating dzn-files/R003.dzn to fzn-files/R003-dzn.fzn\n",
      "Translating dzn-files/A054.dzn to fzn-files/A054-dzn.fzn\n",
      "Translating dzn-files/R100.dzn to fzn-files/R100-dzn.fzn\n",
      "Translating dzn-files/R006.dzn to fzn-files/R006-dzn.fzn\n",
      "Translating dzn-files/R055.dzn to fzn-files/R055-dzn.fzn\n",
      "Translating dzn-files/R195.dzn to fzn-files/R195-dzn.fzn\n",
      "Translating dzn-files/R088.dzn to fzn-files/R088-dzn.fzn\n",
      "Translating dzn-files/R190.dzn to fzn-files/R190-dzn.fzn\n",
      "Translating dzn-files/R164.dzn to fzn-files/R164-dzn.fzn\n",
      "Translating dzn-files/R059.dzn to fzn-files/R059-dzn.fzn\n",
      "Translating dzn-files/R049.dzn to fzn-files/R049-dzn.fzn\n",
      "Translating dzn-files/R104.dzn to fzn-files/R104-dzn.fzn\n",
      "Translating dzn-files/R095.dzn to fzn-files/R095-dzn.fzn\n",
      "Translating dzn-files/R186.dzn to fzn-files/R186-dzn.fzn\n",
      "Translating dzn-files/A059.dzn to fzn-files/A059-dzn.fzn\n",
      "Translating dzn-files/A013.dzn to fzn-files/A013-dzn.fzn\n",
      "Translating dzn-files/R066.dzn to fzn-files/R066-dzn.fzn\n",
      "Translating dzn-files/A045.dzn to fzn-files/A045-dzn.fzn\n",
      "Translating dzn-files/A043.dzn to fzn-files/A043-dzn.fzn\n",
      "Translating dzn-files/A041.dzn to fzn-files/A041-dzn.fzn\n",
      "Translating dzn-files/R083.dzn to fzn-files/R083-dzn.fzn\n",
      "Translating dzn-files/R167.dzn to fzn-files/R167-dzn.fzn\n",
      "Translating dzn-files/R025.dzn to fzn-files/R025-dzn.fzn\n",
      "Translating dzn-files/R002.dzn to fzn-files/R002-dzn.fzn\n",
      "Translating dzn-files/A040.dzn to fzn-files/A040-dzn.fzn\n",
      "Translating dzn-files/A036.dzn to fzn-files/A036-dzn.fzn\n",
      "Translating dzn-files/R007.dzn to fzn-files/R007-dzn.fzn\n",
      "Translating dzn-files/R019.dzn to fzn-files/R019-dzn.fzn\n",
      "Translating dzn-files/A006.dzn to fzn-files/A006-dzn.fzn\n",
      "Translating dzn-files/R118.dzn to fzn-files/R118-dzn.fzn\n",
      "Translating dzn-files/R070.dzn to fzn-files/R070-dzn.fzn\n",
      "Translating dzn-files/R141.dzn to fzn-files/R141-dzn.fzn\n",
      "Translating dzn-files/R029.dzn to fzn-files/R029-dzn.fzn\n",
      "Translating dzn-files/R126.dzn to fzn-files/R126-dzn.fzn\n",
      "Translating dzn-files/A061.dzn to fzn-files/A061-dzn.fzn\n",
      "Translating dzn-files/A016.dzn to fzn-files/A016-dzn.fzn\n",
      "Translating dzn-files/R193.dzn to fzn-files/R193-dzn.fzn\n",
      "Translating dzn-files/A028.dzn to fzn-files/A028-dzn.fzn\n",
      "Translating dzn-files/R092.dzn to fzn-files/R092-dzn.fzn\n",
      "Translating dzn-files/R202.dzn to fzn-files/R202-dzn.fzn\n",
      "Translating dzn-files/A060.dzn to fzn-files/A060-dzn.fzn\n",
      "Translating dzn-files/R174.dzn to fzn-files/R174-dzn.fzn\n",
      "Translating dzn-files/R009.dzn to fzn-files/R009-dzn.fzn\n",
      "Translating dzn-files/R124.dzn to fzn-files/R124-dzn.fzn\n",
      "Translating dzn-files/R133.dzn to fzn-files/R133-dzn.fzn\n",
      "Translating dzn-files/R091.dzn to fzn-files/R091-dzn.fzn\n",
      "Translating dzn-files/R027.dzn to fzn-files/R027-dzn.fzn\n",
      "Translating dzn-files/R138.dzn to fzn-files/R138-dzn.fzn\n",
      "Translating dzn-files/R026.dzn to fzn-files/R026-dzn.fzn\n",
      "Translating dzn-files/R182.dzn to fzn-files/R182-dzn.fzn\n",
      "Translating dzn-files/R181.dzn to fzn-files/R181-dzn.fzn\n",
      "Translating dzn-files/R122.dzn to fzn-files/R122-dzn.fzn\n",
      "Translating dzn-files/A069.dzn to fzn-files/A069-dzn.fzn\n",
      "Translating dzn-files/A047.dzn to fzn-files/A047-dzn.fzn\n",
      "Translating dzn-files/R085.dzn to fzn-files/R085-dzn.fzn\n",
      "Translating dzn-files/A007.dzn to fzn-files/A007-dzn.fzn\n",
      "Translating dzn-files/R127.dzn to fzn-files/R127-dzn.fzn\n",
      "Translating dzn-files/R117.dzn to fzn-files/R117-dzn.fzn\n",
      "Translating dzn-files/R001.dzn to fzn-files/R001-dzn.fzn\n",
      "Translating dzn-files/R178.dzn to fzn-files/R178-dzn.fzn\n",
      "Translating dzn-files/A034.dzn to fzn-files/A034-dzn.fzn\n",
      "Translating dzn-files/R041.dzn to fzn-files/R041-dzn.fzn\n",
      "Translating dzn-files/R125.dzn to fzn-files/R125-dzn.fzn\n",
      "Translating dzn-files/A021.dzn to fzn-files/A021-dzn.fzn\n",
      "Translating dzn-files/R198.dzn to fzn-files/R198-dzn.fzn\n",
      "Translating dzn-files/R106.dzn to fzn-files/R106-dzn.fzn\n",
      "Translating dzn-files/R115.dzn to fzn-files/R115-dzn.fzn\n",
      "Translating dzn-files/R082.dzn to fzn-files/R082-dzn.fzn\n",
      "Translating dzn-files/A017.dzn to fzn-files/A017-dzn.fzn\n",
      "Translating dzn-files/R201.dzn to fzn-files/R201-dzn.fzn\n",
      "Translating dzn-files/R196.dzn to fzn-files/R196-dzn.fzn\n",
      "Translating dzn-files/R021.dzn to fzn-files/R021-dzn.fzn\n",
      "Translating dzn-files/R191.dzn to fzn-files/R191-dzn.fzn\n",
      "Translating dzn-files/R179.dzn to fzn-files/R179-dzn.fzn\n",
      "Translating dzn-files/R180.dzn to fzn-files/R180-dzn.fzn\n",
      "Translating dzn-files/A008.dzn to fzn-files/A008-dzn.fzn\n",
      "Translating dzn-files/R109.dzn to fzn-files/R109-dzn.fzn\n",
      "Translating dzn-files/R020.dzn to fzn-files/R020-dzn.fzn\n",
      "Translating dzn-files/R200.dzn to fzn-files/R200-dzn.fzn\n",
      "Translating dzn-files/R052.dzn to fzn-files/R052-dzn.fzn\n",
      "Translating dzn-files/R078.dzn to fzn-files/R078-dzn.fzn\n",
      "Translating dzn-files/R177.dzn to fzn-files/R177-dzn.fzn\n"
     ]
    },
    {
     "name": "stdout",
     "output_type": "stream",
     "text": [
      "Translating dzn-files/R123.dzn to fzn-files/R123-dzn.fzn\n",
      "Translating dzn-files/R173.dzn to fzn-files/R173-dzn.fzn\n",
      "Translating dzn-files/R016.dzn to fzn-files/R016-dzn.fzn\n",
      "Translating dzn-files/R113.dzn to fzn-files/R113-dzn.fzn\n",
      "Translating dzn-files/R175.dzn to fzn-files/R175-dzn.fzn\n",
      "Translating dzn-files/R039.dzn to fzn-files/R039-dzn.fzn\n",
      "Translating dzn-files/R176.dzn to fzn-files/R176-dzn.fzn\n",
      "Translating dzn-files/R183.dzn to fzn-files/R183-dzn.fzn\n",
      "Translating dzn-files/R081.dzn to fzn-files/R081-dzn.fzn\n",
      "Translating dzn-files/A072.dzn to fzn-files/A072-dzn.fzn\n",
      "Translating dzn-files/A031.dzn to fzn-files/A031-dzn.fzn\n",
      "Translating dzn-files/A058.dzn to fzn-files/A058-dzn.fzn\n",
      "Translating dzn-files/R107.dzn to fzn-files/R107-dzn.fzn\n",
      "Translating dzn-files/A030.dzn to fzn-files/A030-dzn.fzn\n",
      "Translating dzn-files/R135.dzn to fzn-files/R135-dzn.fzn\n",
      "Translating dzn-files/A014.dzn to fzn-files/A014-dzn.fzn\n",
      "Translating dzn-files/R031.dzn to fzn-files/R031-dzn.fzn\n",
      "Translating dzn-files/A022.dzn to fzn-files/A022-dzn.fzn\n",
      "Translating dzn-files/A071.dzn to fzn-files/A071-dzn.fzn\n",
      "Translating dzn-files/R024.dzn to fzn-files/R024-dzn.fzn\n",
      "Translating dzn-files/A018.dzn to fzn-files/A018-dzn.fzn\n",
      "Translating dzn-files/R079.dzn to fzn-files/R079-dzn.fzn\n",
      "Translating dzn-files/R099.dzn to fzn-files/R099-dzn.fzn\n",
      "Translating dzn-files/R094.dzn to fzn-files/R094-dzn.fzn\n",
      "Translating dzn-files/R063.dzn to fzn-files/R063-dzn.fzn\n",
      "Translating dzn-files/A053.dzn to fzn-files/A053-dzn.fzn\n",
      "Translating dzn-files/R036.dzn to fzn-files/R036-dzn.fzn\n",
      "Translating dzn-files/R074.dzn to fzn-files/R074-dzn.fzn\n",
      "Translating dzn-files/R022.dzn to fzn-files/R022-dzn.fzn\n",
      "Translating dzn-files/A029.dzn to fzn-files/A029-dzn.fzn\n",
      "Translating dzn-files/R028.dzn to fzn-files/R028-dzn.fzn\n",
      "Translating dzn-files/R120.dzn to fzn-files/R120-dzn.fzn\n",
      "Translating dzn-files/R204.dzn to fzn-files/R204-dzn.fzn\n",
      "Translating dzn-files/R121.dzn to fzn-files/R121-dzn.fzn\n",
      "Translating dzn-files/R056.dzn to fzn-files/R056-dzn.fzn\n",
      "Translating dzn-files/R110.dzn to fzn-files/R110-dzn.fzn\n",
      "Translating dzn-files/A046.dzn to fzn-files/A046-dzn.fzn\n",
      "Translating dzn-files/R114.dzn to fzn-files/R114-dzn.fzn\n",
      "Translating dzn-files/R168.dzn to fzn-files/R168-dzn.fzn\n",
      "Translating dzn-files/R098.dzn to fzn-files/R098-dzn.fzn\n",
      "Translating dzn-files/R048.dzn to fzn-files/R048-dzn.fzn\n",
      "Translating dzn-files/A070.dzn to fzn-files/A070-dzn.fzn\n",
      "Translating dzn-files/R148.dzn to fzn-files/R148-dzn.fzn\n",
      "Translating dzn-files/R014.dzn to fzn-files/R014-dzn.fzn\n",
      "Translating dzn-files/R189.dzn to fzn-files/R189-dzn.fzn\n",
      "Translating dzn-files/R018.dzn to fzn-files/R018-dzn.fzn\n",
      "Translating dzn-files/R112.dzn to fzn-files/R112-dzn.fzn\n",
      "Translating dzn-files/R017.dzn to fzn-files/R017-dzn.fzn\n",
      "Translating dzn-files/R008.dzn to fzn-files/R008-dzn.fzn\n",
      "Translating dzn-files/A011.dzn to fzn-files/A011-dzn.fzn\n",
      "Translating dzn-files/R054.dzn to fzn-files/R054-dzn.fzn\n",
      "Translating dzn-files/R087.dzn to fzn-files/R087-dzn.fzn\n",
      "Translating dzn-files/A062.dzn to fzn-files/A062-dzn.fzn\n",
      "Translating dzn-files/R144.dzn to fzn-files/R144-dzn.fzn\n",
      "Translating dzn-files/R058.dzn to fzn-files/R058-dzn.fzn\n",
      "Translating dzn-files/R163.dzn to fzn-files/R163-dzn.fzn\n",
      "Translating dzn-files/R046.dzn to fzn-files/R046-dzn.fzn\n",
      "Translating dzn-files/R130.dzn to fzn-files/R130-dzn.fzn\n",
      "Translating dzn-files/R096.dzn to fzn-files/R096-dzn.fzn\n",
      "Translating dzn-files/R034.dzn to fzn-files/R034-dzn.fzn\n",
      "Translating dzn-files/R102.dzn to fzn-files/R102-dzn.fzn\n",
      "Translating dzn-files/A009.dzn to fzn-files/A009-dzn.fzn\n",
      "Translating dzn-files/A019.dzn to fzn-files/A019-dzn.fzn\n",
      "Translating dzn-files/A005.dzn to fzn-files/A005-dzn.fzn\n",
      "Translating dzn-files/R042.dzn to fzn-files/R042-dzn.fzn\n",
      "Translating dzn-files/R156.dzn to fzn-files/R156-dzn.fzn\n",
      "Translating dzn-files/R065.dzn to fzn-files/R065-dzn.fzn\n",
      "Translating dzn-files/A027.dzn to fzn-files/A027-dzn.fzn\n",
      "Translating dzn-files/A065.dzn to fzn-files/A065-dzn.fzn\n",
      "Translating dzn-files/R012.dzn to fzn-files/R012-dzn.fzn\n",
      "Translating dzn-files/R152.dzn to fzn-files/R152-dzn.fzn\n",
      "Translating dzn-files/R067.dzn to fzn-files/R067-dzn.fzn\n",
      "Translating dzn-files/A012.dzn to fzn-files/A012-dzn.fzn\n",
      "Translating dzn-files/A015.dzn to fzn-files/A015-dzn.fzn\n",
      "Translating dzn-files/A057.dzn to fzn-files/A057-dzn.fzn\n",
      "Translating dzn-files/R011.dzn to fzn-files/R011-dzn.fzn\n",
      "Translating dzn-files/A049.dzn to fzn-files/A049-dzn.fzn\n",
      "Translating dzn-files/R139.dzn to fzn-files/R139-dzn.fzn\n",
      "Translating dzn-files/A020.dzn to fzn-files/A020-dzn.fzn\n",
      "Translating dzn-files/R050.dzn to fzn-files/R050-dzn.fzn\n",
      "Translating dzn-files/R043.dzn to fzn-files/R043-dzn.fzn\n",
      "Translating dzn-files/A066.dzn to fzn-files/A066-dzn.fzn\n",
      "Translating dzn-files/A068.dzn to fzn-files/A068-dzn.fzn\n",
      "Translating dzn-files/R047.dzn to fzn-files/R047-dzn.fzn\n",
      "Translating dzn-files/R084.dzn to fzn-files/R084-dzn.fzn\n",
      "Translating dzn-files/R069.dzn to fzn-files/R069-dzn.fzn\n",
      "Translating dzn-files/R134.dzn to fzn-files/R134-dzn.fzn\n",
      "Translating dzn-files/R170.dzn to fzn-files/R170-dzn.fzn\n",
      "Translating dzn-files/R162.dzn to fzn-files/R162-dzn.fzn\n",
      "Translating dzn-files/A063.dzn to fzn-files/A063-dzn.fzn\n",
      "Translating dzn-files/R015.dzn to fzn-files/R015-dzn.fzn\n",
      "Translating dzn-files/R032.dzn to fzn-files/R032-dzn.fzn\n",
      "Translating dzn-files/R143.dzn to fzn-files/R143-dzn.fzn\n",
      "Translating dzn-files/R004.dzn to fzn-files/R004-dzn.fzn\n",
      "Translating dzn-files/A003.dzn to fzn-files/A003-dzn.fzn\n",
      "Translating dzn-files/R157.dzn to fzn-files/R157-dzn.fzn\n",
      "Translating dzn-files/R086.dzn to fzn-files/R086-dzn.fzn\n",
      "Translating dzn-files/R064.dzn to fzn-files/R064-dzn.fzn\n",
      "Translating dzn-files/R159.dzn to fzn-files/R159-dzn.fzn\n",
      "Translating dzn-files/R105.dzn to fzn-files/R105-dzn.fzn\n",
      "Translating dzn-files/R188.dzn to fzn-files/R188-dzn.fzn\n",
      "Translating dzn-files/R187.dzn to fzn-files/R187-dzn.fzn\n",
      "Translating dzn-files/R073.dzn to fzn-files/R073-dzn.fzn\n",
      "Translating dzn-files/R199.dzn to fzn-files/R199-dzn.fzn\n",
      "Translating dzn-files/A002.dzn to fzn-files/A002-dzn.fzn\n",
      "Translating dzn-files/R197.dzn to fzn-files/R197-dzn.fzn\n",
      "Translating dzn-files/R097.dzn to fzn-files/R097-dzn.fzn\n",
      "Translating dzn-files/A048.dzn to fzn-files/A048-dzn.fzn\n",
      "Translating dzn-files/R171.dzn to fzn-files/R171-dzn.fzn\n",
      "Translating dzn-files/A025.dzn to fzn-files/A025-dzn.fzn\n",
      "Translating dzn-files/R142.dzn to fzn-files/R142-dzn.fzn\n",
      "Translating dzn-files/R161.dzn to fzn-files/R161-dzn.fzn\n",
      "Translating dzn-files/R203.dzn to fzn-files/R203-dzn.fzn\n",
      "Translating dzn-files/R192.dzn to fzn-files/R192-dzn.fzn\n",
      "Translating dzn-files/A023.dzn to fzn-files/A023-dzn.fzn\n",
      "Translating dzn-files/A039.dzn to fzn-files/A039-dzn.fzn\n",
      "Translating dzn-files/R101.dzn to fzn-files/R101-dzn.fzn\n",
      "Translating dzn-files/R136.dzn to fzn-files/R136-dzn.fzn\n",
      "Translating dzn-files/R051.dzn to fzn-files/R051-dzn.fzn\n",
      "Translating dzn-files/R077.dzn to fzn-files/R077-dzn.fzn\n",
      "Translating dzn-files/R153.dzn to fzn-files/R153-dzn.fzn\n",
      "Translating dzn-files/R131.dzn to fzn-files/R131-dzn.fzn\n",
      "Translating dzn-files/A042.dzn to fzn-files/A042-dzn.fzn\n",
      "Translating dzn-files/R160.dzn to fzn-files/R160-dzn.fzn\n",
      "Translating dzn-files/R062.dzn to fzn-files/R062-dzn.fzn\n",
      "Translating dzn-files/R140.dzn to fzn-files/R140-dzn.fzn\n",
      "Translating dzn-files/R035.dzn to fzn-files/R035-dzn.fzn\n",
      "Translating dzn-files/A044.dzn to fzn-files/A044-dzn.fzn\n",
      "Translating dzn-files/R090.dzn to fzn-files/R090-dzn.fzn\n",
      "Translating dzn-files/A050.dzn to fzn-files/A050-dzn.fzn\n",
      "Translating dzn-files/R060.dzn to fzn-files/R060-dzn.fzn\n",
      "Translating dzn-files/R045.dzn to fzn-files/R045-dzn.fzn\n",
      "Translating dzn-files/R119.dzn to fzn-files/R119-dzn.fzn\n",
      "Translating dzn-files/A033.dzn to fzn-files/A033-dzn.fzn\n"
     ]
    }
   ],
   "source": [
    "fzn_path = 'fzn-files/'\n",
    "minizinc_base_cmd = '../minizinc/bin/minizinc \\\n",
    "    --compile --solver org.minizinc.mzn-fzn \\\n",
    "    --globals-dir smt2 mzn-model/Mz.mzn '\n",
    "for dzn in dzn_files:\n",
    "    minizinc_transform_cmd = minizinc_base_cmd + dzn_path + dzn \\\n",
    "        + ' --output-to-file ' + fzn_path + dzn.replace('.', '-') + '.fzn'\n",
    "    print(f'''Translating {dzn_path + dzn} to {fzn_path + dzn.replace('.', '-')}.fzn''')\n",
    "    subprocess.check_output(minizinc_transform_cmd, shell=True, \n",
    "                                     universal_newlines=True)"
   ]
  },
  {
   "cell_type": "markdown",
   "metadata": {},
   "source": [
    "## Translate `fzn` to `smt2`"
   ]
  },
  {
   "cell_type": "markdown",
   "metadata": {},
   "source": [
    "The generated `.fzn` file can be used to generate a `.smt2` file using the `fzn2smt2.py` script from this [project](https://github.com/PatrickTrentin88/fzn2omt)."
   ]
  },
  {
   "cell_type": "code",
   "execution_count": 7,
   "metadata": {},
   "outputs": [
    {
     "data": {
      "text/plain": [
       "278"
      ]
     },
     "execution_count": 7,
     "metadata": {},
     "output_type": "execute_result"
    }
   ],
   "source": [
    "import os\n",
    "\n",
    "fzn_files = []\n",
    "fzn_path = 'fzn-files/'\n",
    "\n",
    "for filename in os.listdir(fzn_path):\n",
    "    if filename.endswith(\".fzn\"):\n",
    "        fzn_files.append(filename)\n",
    "len(fzn_files)"
   ]
  },
  {
   "cell_type": "code",
   "execution_count": null,
   "metadata": {},
   "outputs": [
    {
     "name": "stdout",
     "output_type": "stream",
     "text": [
      "Translating fzn-files/R121-dzn.fzn to smt2-files/fzn2smt2-omt/R121-dzn-fzn.smt2\n",
      "Translating fzn-files/R063-dzn.fzn to smt2-files/fzn2smt2-omt/R063-dzn-fzn.smt2\n",
      "Translating fzn-files/R084-dzn.fzn to smt2-files/fzn2smt2-omt/R084-dzn-fzn.smt2\n",
      "Translating fzn-files/R064-dzn.fzn to smt2-files/fzn2smt2-omt/R064-dzn-fzn.smt2\n",
      "Translating fzn-files/A033-dzn.fzn to smt2-files/fzn2smt2-omt/A033-dzn-fzn.smt2\n",
      "Translating fzn-files/R122-dzn.fzn to smt2-files/fzn2smt2-omt/R122-dzn-fzn.smt2\n",
      "Translating fzn-files/R191-dzn.fzn to smt2-files/fzn2smt2-omt/R191-dzn-fzn.smt2\n",
      "Translating fzn-files/R045-dzn.fzn to smt2-files/fzn2smt2-omt/R045-dzn-fzn.smt2\n",
      "Translating fzn-files/R021-dzn.fzn to smt2-files/fzn2smt2-omt/R021-dzn-fzn.smt2\n",
      "Translating fzn-files/A037-dzn.fzn to smt2-files/fzn2smt2-omt/A037-dzn-fzn.smt2\n",
      "Translating fzn-files/R194-dzn.fzn to smt2-files/fzn2smt2-omt/R194-dzn-fzn.smt2\n",
      "Translating fzn-files/A042-dzn.fzn to smt2-files/fzn2smt2-omt/A042-dzn-fzn.smt2\n",
      "Translating fzn-files/R009-dzn.fzn to smt2-files/fzn2smt2-omt/R009-dzn-fzn.smt2\n",
      "Translating fzn-files/A009-dzn.fzn to smt2-files/fzn2smt2-omt/A009-dzn-fzn.smt2\n",
      "Translating fzn-files/R062-dzn.fzn to smt2-files/fzn2smt2-omt/R062-dzn-fzn.smt2\n",
      "Translating fzn-files/R124-dzn.fzn to smt2-files/fzn2smt2-omt/R124-dzn-fzn.smt2\n",
      "Translating fzn-files/R061-dzn.fzn to smt2-files/fzn2smt2-omt/R061-dzn-fzn.smt2\n"
     ]
    }
   ],
   "source": [
    "smt2_path = 'smt2-files/z3/'\n",
    "fzn2smt2_base_cmd = './fzn2omt/fzn2smt2.py --solver z3 --smt2 '\n",
    "for fzn in fzn_files:\n",
    "    fzn2smt2_transform_cmd = fzn2smt2_base_cmd + smt2_path \\\n",
    "    + fzn.replace('.', '-') + '.smt2 ' + fzn_path + fzn\n",
    "    print(f'''Translating {fzn_path + fzn} to {smt2_path + fzn.replace('.', '-')}.smt2''')\n",
    "    my_env = os.environ.copy()\n",
    "    my_env['PATH'] = \"/home/kw/optimathsat/bin/:\" + my_env['PATH']\n",
    "    subprocess.check_output(fzn2smt2_transform_cmd, shell=True, env=my_env,\n",
    "                                     universal_newlines=True)"
   ]
  },
  {
   "cell_type": "markdown",
   "metadata": {},
   "source": [
    "This shoud generate the `smt2` file without any error. If this was the case then the `z3` prover can be called on a file by running\n",
    "\n",
    "\n",
    "```zsh\n",
    "z3 output/A001-dzn-smt2-fzn.smt2 \n",
    "```\n",
    "\n",
    "yielding something similar to\n",
    "\n",
    "```zsh\n",
    "z3 output/A001-dzn-smt2-fzn.smt2                                                       \n",
    "sat\n",
    "(objectives\n",
    " (obj 41881)\n",
    ")\n",
    "(model \n",
    "  (define-fun X_INTRODUCED_981_ () Bool\n",
    "    false)\n",
    "  (define-fun X_INTRODUCED_348_ () Bool\n",
    "    false)\n",
    "   \n",
    "   .....\n",
    "```"
   ]
  },
  {
   "cell_type": "code",
   "execution_count": 11,
   "metadata": {},
   "outputs": [
    {
     "name": "stdout",
     "output_type": "stream",
     "text": [
      "sat\n",
      "(objectives\n",
      " (obj 0)\n",
      ")\n",
      "(model \n",
      "  (define-fun X_INTRODUCED_19_ () Bool\n",
      "    true)\n",
      "  (define-fun X_INTRODUCED_5_ () Bool\n",
      "    false)\n",
      "  (define-fun X_INTRODUCED_8_ () Bool\n",
      "    false)\n",
      "  (define-fun X_INTRODUCED_3_ () Int\n",
      "    1)\n",
      "  (define-fun X_INTRODUCED_7_ () Bool\n",
      "    false)\n",
      "  (define-fun X_INTRODUCED_21_ () Bool\n",
      "    false)\n",
      "  (define-fun X_INTRODUCED_14_ () Int\n",
      "    1)\n",
      "  (define-fun X_INTRODUCED_9_ () Int\n",
      "    0)\n",
      "  (define-fun X_INTRODUCED_1_ () Int\n",
      "    1)\n",
      "  (define-fun obj () Int\n",
      "    0)\n",
      "  (define-fun X_INTRODUCED_0_ () Int\n",
      "    2)\n",
      ")\n",
      "\n"
     ]
    }
   ],
   "source": [
    "result = subprocess.check_output('./z3/build/z3 smt2-files/A012-dzn-fzn.smt2', \n",
    "                        shell=True, universal_newlines=True)\n",
    "print(result)"
   ]
  }
 ],
 "metadata": {
  "kernelspec": {
   "display_name": "Python 3",
   "language": "python",
   "name": "python3"
  },
  "language_info": {
   "codemirror_mode": {
    "name": "ipython",
    "version": 3
   },
   "file_extension": ".py",
   "mimetype": "text/x-python",
   "name": "python",
   "nbconvert_exporter": "python",
   "pygments_lexer": "ipython3",
   "version": "3.7.6"
  }
 },
 "nbformat": 4,
 "nbformat_minor": 4
}
