{
 "cells": [
  {
   "cell_type": "markdown",
   "metadata": {},
   "source": [
    "# Translate `dzn` to `smt2`"
   ]
  },
  {
   "cell_type": "markdown",
   "metadata": {},
   "source": [
    "### Check Versions of Tools"
   ]
  },
  {
   "cell_type": "code",
   "execution_count": 31,
   "metadata": {},
   "outputs": [
    {
     "data": {
      "text/plain": [
       "'MathSAT5 version 1.6.4 (d39a648d6bb7) (Feb 25 2020 14:02:07, gmp 6.1.2, gcc 9.2.1, 64-bit)\\n'"
      ]
     },
     "execution_count": 31,
     "metadata": {},
     "output_type": "execute_result"
    }
   ],
   "source": [
    "import subprocess\n",
    "\n",
    "output = subprocess.check_output(\"./optimathsat-1.6.4-linux-64-bit/bin/optimathsat -version\", shell=True, universal_newlines=True)\n",
    "output"
   ]
  },
  {
   "cell_type": "code",
   "execution_count": 33,
   "metadata": {},
   "outputs": [
    {
     "data": {
      "text/plain": [
       "'MiniZinc to FlatZinc converter, version 2.4.3, build 122680178\\nCopyright (C) 2014-2020 Monash University, NICTA, Data61\\n'"
      ]
     },
     "execution_count": 33,
     "metadata": {},
     "output_type": "execute_result"
    }
   ],
   "source": [
    "output = subprocess.check_output(\"./minizinc/bin/minizinc --version\", shell=True, universal_newlines=True)\n",
    "output"
   ]
  },
  {
   "cell_type": "code",
   "execution_count": 35,
   "metadata": {},
   "outputs": [
    {
     "data": {
      "text/plain": [
       "'Z3 version 4.8.8 - 64 bit\\n'"
      ]
     },
     "execution_count": 35,
     "metadata": {},
     "output_type": "execute_result"
    }
   ],
   "source": [
    "output = subprocess.check_output(\"./z3/build/z3 --version\", shell=True, universal_newlines=True)\n",
    "output"
   ]
  },
  {
   "cell_type": "markdown",
   "metadata": {},
   "source": [
    "First generate the FlatZinc files using the MiniZinc tool. Make sure that a `smt2` folder is located inside `./minizinc/share/minizinc/`. Else, to enable OptiMathSAT's support for global constraints download the [smt2.tar.gz](http://optimathsat.disi.unitn.it/data/smt2.tar.gz) package and unpack it there using\n",
    "\n",
    "```zsh\n",
    "tar xf smt2.tar.gz $MINIZINC_PATH/share/minizinc/\n",
    "```\n",
    "\n",
    "If next output shows a list of `.mzn` files, then this dependency is satified."
   ]
  },
  {
   "cell_type": "code",
   "execution_count": 61,
   "metadata": {},
   "outputs": [
    {
     "name": "stdout",
     "output_type": "stream",
     "text": [
      "total 292\n",
      "drwxr-xr-x 1 kw kw 4096 Apr  2 12:38 .\n",
      "drwxr-xr-x 1 kw kw 4096 Apr  2 12:38 ..\n",
      "-rw-r--r-- 1 kw kw  328 Apr  2 12:38 alldifferent_except_0.mzn\n",
      "-rw-r--r-- 1 kw kw  382 Apr  2 12:38 all_different_int.mzn\n",
      "-rw-r--r-- 1 kw kw  396 Apr  2 12:38 all_different_set.mzn\n",
      "-rw-r--r-- 1 kw kw  270 Apr  2 12:38 all_disjoint.mzn\n",
      "-rw-r--r-- 1 kw kw  150 Apr  2 12:38 all_equal_int.mzn\n",
      "-rw-r--r-- 1 kw kw  164 Apr  2 12:38 all_equal_set.mzn\n",
      "-rw-r--r-- 1 kw kw  351 Apr  2 12:38 among.mzn\n",
      "-rw-r--r-- 1 kw kw  305 Apr  2 12:38 arg_max_float.mzn\n",
      "-rw-r--r-- 1 kw kw  291 Apr  2 12:38 arg_max_int.mzn\n",
      "-rw-r--r-- 1 kw kw  306 Apr  2 12:38 arg_min_float.mzn\n",
      "-rw-r--r-- 1 kw kw  291 Apr  2 12:38 arg_min_int.mzn\n",
      "-rw-r--r-- 1 kw kw  480 Apr  2 12:38 at_least_int.mzn\n",
      "-rw-r--r-- 1 kw kw  506 Apr  2 12:38 at_least_set.mzn\n",
      "-rw-r--r-- 1 kw kw  340 Apr  2 12:38 at_most1.mzn\n",
      "-rw-r--r-- 1 kw kw  474 Apr  2 12:38 at_most_int.mzn\n",
      "-rw-r--r-- 1 kw kw  502 Apr  2 12:38 at_most_set.mzn\n",
      "-rw-r--r-- 1 kw kw 1162 Apr  2 12:38 bin_packing_capa.mzn\n",
      "-rw-r--r-- 1 kw kw 1044 Apr  2 12:38 bin_packing_load.mzn\n",
      "-rw-r--r-- 1 kw kw  883 Apr  2 12:38 bin_packing.mzn\n",
      "-rw-r--r-- 1 kw kw  765 Apr  2 12:38 comparison_rel_array.mzn\n",
      "-rw-r--r-- 1 kw kw  350 Apr  2 12:38 count_eq.mzn\n",
      "-rw-r--r-- 1 kw kw  382 Apr  2 12:38 count_geq.mzn\n",
      "-rw-r--r-- 1 kw kw  375 Apr  2 12:38 count_gt.mzn\n",
      "-rw-r--r-- 1 kw kw  379 Apr  2 12:38 count_leq.mzn\n",
      "-rw-r--r-- 1 kw kw  371 Apr  2 12:38 count_lt.mzn\n",
      "-rw-r--r-- 1 kw kw  371 Apr  2 12:38 count_neq.mzn\n",
      "-rw-r--r-- 1 kw kw  398 Apr  2 12:38 decreasing_bool.mzn\n",
      "-rw-r--r-- 1 kw kw  404 Apr  2 12:38 decreasing_float.mzn\n",
      "-rw-r--r-- 1 kw kw  393 Apr  2 12:38 decreasing_int.mzn\n",
      "-rw-r--r-- 1 kw kw  408 Apr  2 12:38 decreasing_set.mzn\n",
      "-rw-r--r-- 1 kw kw 1589 Apr  2 12:38 diffn_k.mzn\n",
      "-rw-r--r-- 1 kw kw  853 Apr  2 12:38 diffn.mzn\n",
      "-rw-r--r-- 1 kw kw 1731 Apr  2 12:38 diffn_nonstrict_k.mzn\n",
      "-rw-r--r-- 1 kw kw  919 Apr  2 12:38 diffn_nonstrict.mzn\n",
      "-rw-r--r-- 1 kw kw  276 Apr  2 12:38 disjoint.mzn\n",
      "-rw-r--r-- 1 kw kw  836 Apr  2 12:38 disjunctive.mzn\n",
      "-rw-r--r-- 1 kw kw  748 Apr  2 12:38 disjunctive_strict.mzn\n",
      "-rw-r--r-- 1 kw kw  696 Apr  2 12:38 distribute.mzn\n",
      "-rw-r--r-- 1 kw kw  474 Apr  2 12:38 exactly_int.mzn\n",
      "-rw-r--r-- 1 kw kw  502 Apr  2 12:38 exactly_set.mzn\n",
      "-rw-r--r-- 1 kw kw  851 Apr  2 12:38 global_cardinality_closed.mzn\n",
      "-rw-r--r-- 1 kw kw  396 Apr  2 12:38 global_cardinality_fn.mzn\n",
      "-rw-r--r-- 1 kw kw  914 Apr  2 12:38 global_cardinality_low_up_closed.mzn\n",
      "-rw-r--r-- 1 kw kw  795 Apr  2 12:38 global_cardinality_low_up.mzn\n",
      "-rw-r--r-- 1 kw kw  717 Apr  2 12:38 global_cardinality.mzn\n",
      "-rw-r--r-- 1 kw kw  398 Apr  2 12:38 increasing_bool.mzn\n",
      "-rw-r--r-- 1 kw kw  403 Apr  2 12:38 increasing_float.mzn\n",
      "-rw-r--r-- 1 kw kw  394 Apr  2 12:38 increasing_int.mzn\n",
      "-rw-r--r-- 1 kw kw  408 Apr  2 12:38 increasing_set.mzn\n",
      "-rw-r--r-- 1 kw kw  728 Apr  2 12:38 int_set_channel.mzn\n",
      "-rw-r--r-- 1 kw kw  582 Apr  2 12:38 inverse.mzn\n",
      "-rw-r--r-- 1 kw kw  827 Apr  2 12:38 inverse_set.mzn\n",
      "-rw-r--r-- 1 kw kw  708 Apr  2 12:38 link_set_to_booleans.mzn\n",
      "-rw-r--r-- 1 kw kw  375 Apr  2 12:38 maximum_float.mzn\n",
      "-rw-r--r-- 1 kw kw  367 Apr  2 12:38 maximum_int.mzn\n",
      "-rw-r--r-- 1 kw kw  422 Apr  2 12:38 member_bool.mzn\n",
      "-rw-r--r-- 1 kw kw  431 Apr  2 12:38 member_float.mzn\n",
      "-rw-r--r-- 1 kw kw  414 Apr  2 12:38 member_int.mzn\n",
      "-rw-r--r-- 1 kw kw  442 Apr  2 12:38 member_set.mzn\n",
      "-rw-r--r-- 1 kw kw  372 Apr  2 12:38 minimum_float.mzn\n",
      "-rw-r--r-- 1 kw kw  367 Apr  2 12:38 minimum_int.mzn\n",
      "-rw-r--r-- 1 kw kw  283 Apr  2 12:38 nvalue.mzn\n",
      "-rw-r--r-- 1 kw kw  712 Apr  2 12:38 range.mzn\n",
      "-rw-r--r-- 1 kw kw 1751 Apr  2 12:38 redefinitions-2.0.2.mzn\n",
      "-rw-r--r-- 1 kw kw 1434 Apr  2 12:38 redefinitions-2.0.mzn\n",
      "-rw-r--r-- 1 kw kw  678 Apr  2 12:38 redefinitions-2.1.mzn\n",
      "-rw-r--r-- 1 kw kw  571 Apr  2 12:38 roots.mzn\n",
      "-rw-r--r-- 1 kw kw  764 Apr  2 12:38 sum_pred.mzn\n",
      "-rw-r--r-- 1 kw kw  445 Apr  2 12:38 symmetric_all_different.mzn\n",
      "-rw-r--r-- 1 kw kw  280 Apr  2 12:38 value_precede_int.mzn\n",
      "-rw-r--r-- 1 kw kw  294 Apr  2 12:38 value_precede_set.mzn\n",
      "\n"
     ]
    }
   ],
   "source": [
    "output = subprocess.check_output(\"ls -la ./minizinc/share/minizinc/smt2/\", shell=True, universal_newlines=True)\n",
    "print(output)"
   ]
  },
  {
   "cell_type": "markdown",
   "metadata": {},
   "source": [
    "## Transform `dzn` to `fzn` Using Model `mzn`"
   ]
  },
  {
   "cell_type": "markdown",
   "metadata": {},
   "source": [
    "Then transform the desired `.dzn` file to `.fzn` using the `Mz.mzn` MiniZinc model."
   ]
  },
  {
   "cell_type": "code",
   "execution_count": 48,
   "metadata": {
    "scrolled": true
   },
   "outputs": [
    {
     "data": {
      "text/plain": [
       "21"
      ]
     },
     "execution_count": 48,
     "metadata": {},
     "output_type": "execute_result"
    }
   ],
   "source": [
    "import os\n",
    "\n",
    "dzn_files = []\n",
    "dzn_path = 'dzn-files/'\n",
    "\n",
    "for filename in os.listdir(dzn_path):\n",
    "    if filename.endswith(\".dzn\"):\n",
    "        dzn_files.append(filename)\n",
    "len(dzn_files)"
   ]
  },
  {
   "cell_type": "code",
   "execution_count": 79,
   "metadata": {},
   "outputs": [
    {
     "name": "stdout",
     "output_type": "stream",
     "text": [
      "Translating dzn-files/R205.dzn to fzn-files/R205-dzn.fzn\n",
      "Translating dzn-files/A004.dzn to fzn-files/A004-dzn.fzn\n",
      "Translating dzn-files/A001.dzn to fzn-files/A001-dzn.fzn\n",
      "Translating dzn-files/A010.dzn to fzn-files/A010-dzn.fzn\n",
      "Translating dzn-files/A013.dzn to fzn-files/A013-dzn.fzn\n",
      "Translating dzn-files/A006.dzn to fzn-files/A006-dzn.fzn\n",
      "Translating dzn-files/A016.dzn to fzn-files/A016-dzn.fzn\n",
      "Translating dzn-files/A007.dzn to fzn-files/A007-dzn.fzn\n",
      "Translating dzn-files/A017.dzn to fzn-files/A017-dzn.fzn\n",
      "Translating dzn-files/A008.dzn to fzn-files/A008-dzn.fzn\n",
      "Translating dzn-files/A014.dzn to fzn-files/A014-dzn.fzn\n",
      "Translating dzn-files/A018.dzn to fzn-files/A018-dzn.fzn\n",
      "Translating dzn-files/A011.dzn to fzn-files/A011-dzn.fzn\n",
      "Translating dzn-files/A009.dzn to fzn-files/A009-dzn.fzn\n",
      "Translating dzn-files/A019.dzn to fzn-files/A019-dzn.fzn\n",
      "Translating dzn-files/A005.dzn to fzn-files/A005-dzn.fzn\n",
      "Translating dzn-files/A012.dzn to fzn-files/A012-dzn.fzn\n",
      "Translating dzn-files/A015.dzn to fzn-files/A015-dzn.fzn\n",
      "Translating dzn-files/A020.dzn to fzn-files/A020-dzn.fzn\n",
      "Translating dzn-files/A003.dzn to fzn-files/A003-dzn.fzn\n",
      "Translating dzn-files/A002.dzn to fzn-files/A002-dzn.fzn\n"
     ]
    }
   ],
   "source": [
    "fzn_path = 'fzn-files/'\n",
    "minizinc_base_cmd = './minizinc/bin/minizinc \\\n",
    "    --compile --solver org.minizinc.mzn-fzn \\\n",
    "    --globals-dir smt2 dzn-files/Mz.mzn '\n",
    "for dzn in dzn_files:\n",
    "    minizinc_transform_cmd = minizinc_base_cmd + dzn_path + dzn \\\n",
    "        + ' --output-to-file ' + fzn_path + dzn.replace('.', '-') + '.fzn'\n",
    "    print(f'''Translating {dzn_path + dzn} to {fzn_path + dzn.replace('.', '-')}.fzn''')\n",
    "    subprocess.check_output(minizinc_transform_cmd, shell=True, \n",
    "                                     universal_newlines=True)"
   ]
  },
  {
   "cell_type": "markdown",
   "metadata": {},
   "source": [
    "## Translate `fzn` to `smt2`"
   ]
  },
  {
   "cell_type": "markdown",
   "metadata": {},
   "source": [
    "The generated `.fzn` file can be used to generate a `.smt2` file using the `fzn2smt2.py` script from this [project](https://github.com/PatrickTrentin88/fzn2omt)."
   ]
  },
  {
   "cell_type": "code",
   "execution_count": 51,
   "metadata": {},
   "outputs": [
    {
     "data": {
      "text/plain": [
       "21"
      ]
     },
     "execution_count": 51,
     "metadata": {},
     "output_type": "execute_result"
    }
   ],
   "source": [
    "import os\n",
    "\n",
    "fzn_files = []\n",
    "fzn_path = 'fzn-files/'\n",
    "\n",
    "for filename in os.listdir(fzn_path):\n",
    "    if filename.endswith(\".fzn\"):\n",
    "        fzn_files.append(filename)\n",
    "len(fzn_files)"
   ]
  },
  {
   "cell_type": "code",
   "execution_count": 86,
   "metadata": {},
   "outputs": [
    {
     "name": "stdout",
     "output_type": "stream",
     "text": [
      "Translating fzn-files/A009-dzn.fzn to smt2-files/A009-dzn-fzn.smt2\n",
      "Translating fzn-files/A016-dzn.fzn to smt2-files/A016-dzn-fzn.smt2\n",
      "Translating fzn-files/R205-dzn.fzn to smt2-files/R205-dzn-fzn.smt2\n",
      "Translating fzn-files/A004-dzn.fzn to smt2-files/A004-dzn-fzn.smt2\n",
      "Translating fzn-files/A013-dzn.fzn to smt2-files/A013-dzn-fzn.smt2\n",
      "Translating fzn-files/A006-dzn.fzn to smt2-files/A006-dzn-fzn.smt2\n",
      "Translating fzn-files/A011-dzn.fzn to smt2-files/A011-dzn-fzn.smt2\n",
      "Translating fzn-files/A008-dzn.fzn to smt2-files/A008-dzn-fzn.smt2\n",
      "Translating fzn-files/A014-dzn.fzn to smt2-files/A014-dzn-fzn.smt2\n",
      "Translating fzn-files/A005-dzn.fzn to smt2-files/A005-dzn-fzn.smt2\n",
      "Translating fzn-files/A002-dzn.fzn to smt2-files/A002-dzn-fzn.smt2\n",
      "Translating fzn-files/A018-dzn.fzn to smt2-files/A018-dzn-fzn.smt2\n",
      "Translating fzn-files/A017-dzn.fzn to smt2-files/A017-dzn-fzn.smt2\n",
      "Translating fzn-files/A019-dzn.fzn to smt2-files/A019-dzn-fzn.smt2\n",
      "Translating fzn-files/A001-dzn.fzn to smt2-files/A001-dzn-fzn.smt2\n",
      "Translating fzn-files/A010-dzn.fzn to smt2-files/A010-dzn-fzn.smt2\n",
      "Translating fzn-files/A020-dzn.fzn to smt2-files/A020-dzn-fzn.smt2\n",
      "Translating fzn-files/A007-dzn.fzn to smt2-files/A007-dzn-fzn.smt2\n",
      "Translating fzn-files/A015-dzn.fzn to smt2-files/A015-dzn-fzn.smt2\n",
      "Translating fzn-files/A012-dzn.fzn to smt2-files/A012-dzn-fzn.smt2\n",
      "Translating fzn-files/A003-dzn.fzn to smt2-files/A003-dzn-fzn.smt2\n"
     ]
    }
   ],
   "source": [
    "smt2_path = 'smt2-files/'\n",
    "fzn2smt2_base_cmd = './fzn2omt/fzn2smt2.py --solver z3 --smt2 '\n",
    "for fzn in fzn_files:\n",
    "    fzn2smt2_transform_cmd = fzn2smt2_base_cmd + smt2_path \\\n",
    "    + fzn.replace('.', '-') + '.smt2 ' + fzn_path + fzn\n",
    "    print(f'''Translating {fzn_path + fzn} to {smt2_path + fzn.replace('.', '-')}.smt2''')\n",
    "    my_env = os.environ.copy()\n",
    "    my_env['PATH'] = \"/home/kw/optimathsat-1.6.4-linux-64-bit/bin/:\" + my_env['PATH']\n",
    "    subprocess.check_output(fzn2smt2_transform_cmd, shell=True, env=my_env,\n",
    "                                     universal_newlines=True)"
   ]
  },
  {
   "cell_type": "markdown",
   "metadata": {},
   "source": [
    "This shoud generate the `smt2` file without any error. If this was the case then the `z3` prover can be called on a file by running\n",
    "\n",
    "\n",
    "```zsh\n",
    "z3 output/A001-dzn-smt2-fzn.smt2 \n",
    "```\n",
    "\n",
    "yielding something similar to\n",
    "\n",
    "```zsh\n",
    "```zsh\n",
    "z3 output/A001-dzn-smt2-fzn.smt2                                                       \n",
    "sat\n",
    "(objectives\n",
    " (obj 41881)\n",
    ")\n",
    "(model \n",
    "  (define-fun X_INTRODUCED_981_ () Bool\n",
    "    false)\n",
    "  (define-fun X_INTRODUCED_348_ () Bool\n",
    "    false)\n",
    "   \n",
    "   .....\n",
    "```"
   ]
  },
  {
   "cell_type": "code",
   "execution_count": 92,
   "metadata": {},
   "outputs": [
    {
     "name": "stdout",
     "output_type": "stream",
     "text": [
      "sat\n",
      "(objectives\n",
      " (obj 0)\n",
      ")\n",
      "(model \n",
      "  (define-fun X_INTRODUCED_19_ () Bool\n",
      "    true)\n",
      "  (define-fun X_INTRODUCED_5_ () Bool\n",
      "    false)\n",
      "  (define-fun X_INTRODUCED_8_ () Bool\n",
      "    false)\n",
      "  (define-fun X_INTRODUCED_3_ () Int\n",
      "    1)\n",
      "  (define-fun X_INTRODUCED_7_ () Bool\n",
      "    false)\n",
      "  (define-fun X_INTRODUCED_21_ () Bool\n",
      "    false)\n",
      "  (define-fun X_INTRODUCED_14_ () Int\n",
      "    1)\n",
      "  (define-fun X_INTRODUCED_9_ () Int\n",
      "    0)\n",
      "  (define-fun X_INTRODUCED_1_ () Int\n",
      "    1)\n",
      "  (define-fun obj () Int\n",
      "    0)\n",
      "  (define-fun X_INTRODUCED_0_ () Int\n",
      "    2)\n",
      ")\n",
      "\n"
     ]
    }
   ],
   "source": [
    "result = subprocess.check_output('./z3/build/z3 smt2-files/A012-dzn-fzn.smt2', \n",
    "                        shell=True, universal_newlines=True)\n",
    "print(result)"
   ]
  }
 ],
 "metadata": {
  "kernelspec": {
   "display_name": "Python 3",
   "language": "python",
   "name": "python3"
  },
  "language_info": {
   "codemirror_mode": {
    "name": "ipython",
    "version": 3
   },
   "file_extension": ".py",
   "mimetype": "text/x-python",
   "name": "python",
   "nbconvert_exporter": "python",
   "pygments_lexer": "ipython3",
   "version": "3.7.6"
  }
 },
 "nbformat": 4,
 "nbformat_minor": 4
}
