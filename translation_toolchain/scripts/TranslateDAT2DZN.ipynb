{
 "cells": [
  {
   "cell_type": "markdown",
   "metadata": {},
   "source": [
    "# Translate `dat` to `dzn`"
   ]
  },
  {
   "cell_type": "code",
   "execution_count": 1,
   "metadata": {},
   "outputs": [],
   "source": [
    "import os\n",
    "\n",
    "my_env = os.environ.copy()\n",
    "dat_dir = f'''/home/{my_env['USER']}/data/dat/'''\n",
    "dzn_dir = f'''/home/{my_env['USER']}/data/dzn/'''"
   ]
  },
  {
   "cell_type": "code",
   "execution_count": 2,
   "metadata": {},
   "outputs": [],
   "source": [
    "import os\n",
    "from dat_2_dzn import read_file, write_file\n",
    "\n",
    "files_to_convert = os.listdir(dat_dir)\n",
    "if not files_to_convert:\n",
    "    print(f\"No files found to convert in folder {data_dir}\")\n",
    "for file in files_to_convert:\n",
    "    dat_filepath = f'{dat_dir}{file}'\n",
    "    dzn_filepath = f'{dzn_dir}{file}'\n",
    "    atomics, disjuncts, softAtomics, directSucc, k, b = read_file(dat_filepath)\n",
    "    write_file(dzn_filepath, atomics, disjuncts, softAtomics, directSucc, k, b)"
   ]
  }
 ],
 "metadata": {
  "kernelspec": {
   "display_name": "Python 3",
   "language": "python",
   "name": "python3"
  },
  "language_info": {
   "codemirror_mode": {
    "name": "ipython",
    "version": 3
   },
   "file_extension": ".py",
   "mimetype": "text/x-python",
   "name": "python",
   "nbconvert_exporter": "python",
   "pygments_lexer": "ipython3",
   "version": "3.7.6"
  }
 },
 "nbformat": 4,
 "nbformat_minor": 4
}
